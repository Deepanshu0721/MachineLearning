{
  "nbformat": 4,
  "nbformat_minor": 0,
  "metadata": {
    "colab": {
      "name": "Assessment1.ipynb",
      "version": "0.3.2",
      "provenance": [],
      "collapsed_sections": []
    },
    "kernelspec": {
      "name": "python3",
      "display_name": "Python 3"
    }
  },
  "cells": [
    {
      "cell_type": "code",
      "metadata": {
        "id": "6sZ-Q-kxBAU5",
        "colab_type": "code",
        "colab": {}
      },
      "source": [
        "import numpy as np\n",
        "import pandas as pd\n",
        "import io\n",
        "from google.colab import files"
      ],
      "execution_count": 0,
      "outputs": []
    },
    {
      "cell_type": "code",
      "metadata": {
        "id": "5RC7C8k6I3wl",
        "colab_type": "code",
        "colab": {}
      },
      "source": [
        "import seaborn as sns;sns.set()\n",
        "import matplotlib.pyplot as plt\n",
        "%matplotlib inline"
      ],
      "execution_count": 0,
      "outputs": []
    },
    {
      "cell_type": "code",
      "metadata": {
        "id": "g1bjJmvkBaPb",
        "colab_type": "code",
        "outputId": "6e0ba269-f0c5-4588-cbc1-bc8df9bc9cf6",
        "colab": {
          "resources": {
            "http://localhost:8080/nbextensions/google.colab/files.js": {
              "data": "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",
              "ok": true,
              "headers": [
                [
                  "content-type",
                  "application/javascript"
                ]
              ],
              "status": 200,
              "status_text": ""
            }
          },
          "base_uri": "https://localhost:8080/",
          "height": 74
        }
      },
      "source": [
        "uploaded = files.upload()"
      ],
      "execution_count": 3,
      "outputs": [
        {
          "output_type": "display_data",
          "data": {
            "text/html": [
              "\n",
              "     <input type=\"file\" id=\"files-f54a7e65-faf2-49aa-9d10-0cd7bb9eb8b8\" name=\"files[]\" multiple disabled />\n",
              "     <output id=\"result-f54a7e65-faf2-49aa-9d10-0cd7bb9eb8b8\">\n",
              "      Upload widget is only available when the cell has been executed in the\n",
              "      current browser session. Please rerun this cell to enable.\n",
              "      </output>\n",
              "      <script src=\"/nbextensions/google.colab/files.js\"></script> "
            ],
            "text/plain": [
              "<IPython.core.display.HTML object>"
            ]
          },
          "metadata": {
            "tags": []
          }
        },
        {
          "output_type": "stream",
          "text": [
            "Saving kaggle.json to kaggle.json\n"
          ],
          "name": "stdout"
        }
      ]
    },
    {
      "cell_type": "code",
      "metadata": {
        "id": "PDJQ5WjOEKbs",
        "colab_type": "code",
        "outputId": "962ab2db-ca65-405b-8adc-73281396438c",
        "colab": {
          "base_uri": "https://localhost:8080/",
          "height": 34
        }
      },
      "source": [
        "# Let's make sure the kaggle.json file is present.\n",
        "!ls -lha kaggle.json"
      ],
      "execution_count": 4,
      "outputs": [
        {
          "output_type": "stream",
          "text": [
            "-rw-r--r-- 1 root root 71 Jul 17 16:05 kaggle.json\n"
          ],
          "name": "stdout"
        }
      ]
    },
    {
      "cell_type": "code",
      "metadata": {
        "id": "vJ0pGr1tGQm3",
        "colab_type": "code",
        "colab": {}
      },
      "source": [
        "# Next, install the Kaggle API client.\n",
        "!pip install -q kaggle"
      ],
      "execution_count": 0,
      "outputs": []
    },
    {
      "cell_type": "code",
      "metadata": {
        "id": "J4Q1x0NNGTsZ",
        "colab_type": "code",
        "colab": {}
      },
      "source": [
        "# The Kaggle API client expects this file to be in ~/.kaggle,\n",
        "# so move it there.\n",
        "!mkdir -p ~/.kaggle\n",
        "!cp kaggle.json ~/.kaggle/\n",
        "\n",
        "# This permissions change avoids a warning on Kaggle tool startup.\n",
        "!chmod 600 ~/.kaggle/kaggle.json"
      ],
      "execution_count": 0,
      "outputs": []
    },
    {
      "cell_type": "code",
      "metadata": {
        "id": "1mJ-AdiqGZfd",
        "colab_type": "code",
        "outputId": "d18908b2-7563-424c-8117-19b7f5c5968a",
        "colab": {
          "base_uri": "https://localhost:8080/",
          "height": 391
        }
      },
      "source": [
        "# List available datasets.\n",
        "!kaggle datasets list"
      ],
      "execution_count": 7,
      "outputs": [
        {
          "output_type": "stream",
          "text": [
            "ref                                                         title                                                size  lastUpdated          downloadCount  \n",
            "----------------------------------------------------------  --------------------------------------------------  -----  -------------------  -------------  \n",
            "new-york-state/nys-environmental-remediation-sites          NYS Environmental Remediation Sites                   3MB  2019-07-17 08:06:25            428  \n",
            "AnalyzeBoston/crimes-in-boston                              Crimes in Boston                                     10MB  2018-09-04 17:56:03           1260  \n",
            "matheusfreitag/gas-prices-in-brazil                         Gas Prices in Brazil                                  3MB  2019-07-12 16:23:52           2054  \n",
            "wkirgsn/electric-motor-temperature                          Electric Motor Temperature                           47MB  2019-06-19 11:12:41           1370  \n",
            "jealousleopard/goodreadsbooks                               Goodreads-books                                     632KB  2019-06-14 16:35:05           2932  \n",
            "sudalairajkumar/chennai-water-management                    Chennai Water Management                             75KB  2019-06-19 03:42:44           2535  \n",
            "new-york-city/new-york-city-current-job-postings            New York City Current Job Postings                    3MB  2019-07-14 22:06:11           3002  \n",
            "eliasdabbas/search-engine-results-flights-tickets-keywords  Search Engine Results - Flights & Tickets Keywords   21MB  2019-07-15 11:46:54            546  \n",
            "r3w0p4/recorded-crime-data-at-police-force-area-level       Recorded Crime Data at the Police Force Area Level  300KB  2019-06-21 15:16:46            848  \n",
            "r3w0p4/bournemouth-venues                                   Venues in Bournemouth                                 3KB  2019-07-08 14:26:48            286  \n",
            "jolasa/waves-measuring-buoys-data-mooloolaba                Waves Measuring Buoys Data                          599KB  2019-07-07 16:59:44            148  \n",
            "doit-intl/autotel-shared-car-locations                      Shared Cars Locations                                78MB  2019-01-10 13:06:00            326  \n",
            "Madgrades/uw-madison-courses                                UW Madison Courses and Grades 2006-2017              90MB  2018-05-15 18:58:25            912  \n",
            "citizen-ds-ghana/health-facilities-gh                       Ghana Health Facilities                              84KB  2018-09-03 01:19:24            299  \n",
            "datafiniti/womens-shoes-prices                              Women's Shoe Prices                                  12MB  2019-06-24 22:50:14           7379  \n",
            "inIT-OWL/vega-shrinkwrapper-runtofailure-data               Vega shrink-wrapper component degradation           408KB  2018-11-12 13:03:43            155  \n",
            "citylines/city-lines                                        Transit systems of world                              3MB  2019-03-25 16:53:05           1073  \n",
            "google/google-landmarks-dataset                             Google-Landmarks Dataset                            107MB  2019-07-17 12:00:27           9052  \n",
            "university-of-edinburgh/peace-agreements-dataset            Peace Agreements Dataset                              1MB  2018-03-05 16:39:50            322  \n",
            "datafiniti/pizza-restaurants-and-the-pizza-they-sell        Pizza Restaurants and the Pizza They Sell           850KB  2019-05-30 00:21:21           2723  \n"
          ],
          "name": "stdout"
        }
      ]
    },
    {
      "cell_type": "code",
      "metadata": {
        "id": "bmmVE-GbGi5m",
        "colab_type": "code",
        "outputId": "2a31bd0b-8204-4cb6-95e8-f412317ab0c6",
        "colab": {
          "base_uri": "https://localhost:8080/",
          "height": 68
        }
      },
      "source": [
        "!kaggle datasets download -d brittabettendorf/berlin-airbnb-data/downloads/berlin-airbnb-data.zip/2"
      ],
      "execution_count": 8,
      "outputs": [
        {
          "output_type": "stream",
          "text": [
            "Downloading berlin-airbnb-data.zip to /content\n",
            " 77% 68.0M/88.7M [00:01<00:00, 53.6MB/s]\n",
            "100% 88.7M/88.7M [00:01<00:00, 83.1MB/s]\n"
          ],
          "name": "stdout"
        }
      ]
    },
    {
      "cell_type": "code",
      "metadata": {
        "id": "sjqQHuuvRJ_a",
        "colab_type": "code",
        "outputId": "305d66b4-b837-4da0-b5e8-934b66f7afd4",
        "colab": {
          "base_uri": "https://localhost:8080/",
          "height": 136
        }
      },
      "source": [
        "\n",
        "!unzip berlin-airbnb-data.zip"
      ],
      "execution_count": 9,
      "outputs": [
        {
          "output_type": "stream",
          "text": [
            "Archive:  berlin-airbnb-data.zip\n",
            "  inflating: reviews_summary.csv     \n",
            "  inflating: calendar_summary.csv    \n",
            "  inflating: reviews.csv             \n",
            "  inflating: listings_summary.csv    \n",
            "  inflating: neighbourhoods.csv      \n",
            "  inflating: listings.csv            \n"
          ],
          "name": "stdout"
        }
      ]
    },
    {
      "cell_type": "code",
      "metadata": {
        "id": "cavS423AlrNI",
        "colab_type": "code",
        "outputId": "94cfc870-b10f-406a-a4c6-e3a5e50ea4f1",
        "colab": {
          "base_uri": "https://localhost:8080/",
          "height": 221
        }
      },
      "source": [
        "#details of cpu and gpu allocated by colab\n",
        "from tensorflow.python.client import device_lib\n",
        "device_lib.list_local_devices()"
      ],
      "execution_count": 10,
      "outputs": [
        {
          "output_type": "execute_result",
          "data": {
            "text/plain": [
              "[name: \"/device:CPU:0\"\n",
              " device_type: \"CPU\"\n",
              " memory_limit: 268435456\n",
              " locality {\n",
              " }\n",
              " incarnation: 6583447913421311671, name: \"/device:XLA_CPU:0\"\n",
              " device_type: \"XLA_CPU\"\n",
              " memory_limit: 17179869184\n",
              " locality {\n",
              " }\n",
              " incarnation: 1008856150509993053\n",
              " physical_device_desc: \"device: XLA_CPU device\"]"
            ]
          },
          "metadata": {
            "tags": []
          },
          "execution_count": 10
        }
      ]
    },
    {
      "cell_type": "code",
      "metadata": {
        "id": "J9v3DzljBR1T",
        "colab_type": "code",
        "outputId": "0dff3517-5fa8-4c2a-b5a4-2a2d8a591a51",
        "colab": {
          "base_uri": "https://localhost:8080/",
          "height": 729
        }
      },
      "source": [
        "listings_summary= pd.read_csv(\"listings_summary.csv\")\n",
        "print(listings_summary.shape)\n",
        "listings_summary.head()"
      ],
      "execution_count": 11,
      "outputs": [
        {
          "output_type": "stream",
          "text": [
            "(22552, 96)\n"
          ],
          "name": "stdout"
        },
        {
          "output_type": "execute_result",
          "data": {
            "text/html": [
              "<div>\n",
              "<style scoped>\n",
              "    .dataframe tbody tr th:only-of-type {\n",
              "        vertical-align: middle;\n",
              "    }\n",
              "\n",
              "    .dataframe tbody tr th {\n",
              "        vertical-align: top;\n",
              "    }\n",
              "\n",
              "    .dataframe thead th {\n",
              "        text-align: right;\n",
              "    }\n",
              "</style>\n",
              "<table border=\"1\" class=\"dataframe\">\n",
              "  <thead>\n",
              "    <tr style=\"text-align: right;\">\n",
              "      <th></th>\n",
              "      <th>id</th>\n",
              "      <th>listing_url</th>\n",
              "      <th>scrape_id</th>\n",
              "      <th>last_scraped</th>\n",
              "      <th>name</th>\n",
              "      <th>summary</th>\n",
              "      <th>space</th>\n",
              "      <th>description</th>\n",
              "      <th>experiences_offered</th>\n",
              "      <th>neighborhood_overview</th>\n",
              "      <th>notes</th>\n",
              "      <th>transit</th>\n",
              "      <th>access</th>\n",
              "      <th>interaction</th>\n",
              "      <th>house_rules</th>\n",
              "      <th>thumbnail_url</th>\n",
              "      <th>medium_url</th>\n",
              "      <th>picture_url</th>\n",
              "      <th>xl_picture_url</th>\n",
              "      <th>host_id</th>\n",
              "      <th>host_url</th>\n",
              "      <th>host_name</th>\n",
              "      <th>host_since</th>\n",
              "      <th>host_location</th>\n",
              "      <th>host_about</th>\n",
              "      <th>host_response_time</th>\n",
              "      <th>host_response_rate</th>\n",
              "      <th>host_acceptance_rate</th>\n",
              "      <th>host_is_superhost</th>\n",
              "      <th>host_thumbnail_url</th>\n",
              "      <th>host_picture_url</th>\n",
              "      <th>host_neighbourhood</th>\n",
              "      <th>host_listings_count</th>\n",
              "      <th>host_total_listings_count</th>\n",
              "      <th>host_verifications</th>\n",
              "      <th>host_has_profile_pic</th>\n",
              "      <th>host_identity_verified</th>\n",
              "      <th>street</th>\n",
              "      <th>neighbourhood</th>\n",
              "      <th>neighbourhood_cleansed</th>\n",
              "      <th>...</th>\n",
              "      <th>beds</th>\n",
              "      <th>bed_type</th>\n",
              "      <th>amenities</th>\n",
              "      <th>square_feet</th>\n",
              "      <th>price</th>\n",
              "      <th>weekly_price</th>\n",
              "      <th>monthly_price</th>\n",
              "      <th>security_deposit</th>\n",
              "      <th>cleaning_fee</th>\n",
              "      <th>guests_included</th>\n",
              "      <th>extra_people</th>\n",
              "      <th>minimum_nights</th>\n",
              "      <th>maximum_nights</th>\n",
              "      <th>calendar_updated</th>\n",
              "      <th>has_availability</th>\n",
              "      <th>availability_30</th>\n",
              "      <th>availability_60</th>\n",
              "      <th>availability_90</th>\n",
              "      <th>availability_365</th>\n",
              "      <th>calendar_last_scraped</th>\n",
              "      <th>number_of_reviews</th>\n",
              "      <th>first_review</th>\n",
              "      <th>last_review</th>\n",
              "      <th>review_scores_rating</th>\n",
              "      <th>review_scores_accuracy</th>\n",
              "      <th>review_scores_cleanliness</th>\n",
              "      <th>review_scores_checkin</th>\n",
              "      <th>review_scores_communication</th>\n",
              "      <th>review_scores_location</th>\n",
              "      <th>review_scores_value</th>\n",
              "      <th>requires_license</th>\n",
              "      <th>license</th>\n",
              "      <th>jurisdiction_names</th>\n",
              "      <th>instant_bookable</th>\n",
              "      <th>is_business_travel_ready</th>\n",
              "      <th>cancellation_policy</th>\n",
              "      <th>require_guest_profile_picture</th>\n",
              "      <th>require_guest_phone_verification</th>\n",
              "      <th>calculated_host_listings_count</th>\n",
              "      <th>reviews_per_month</th>\n",
              "    </tr>\n",
              "  </thead>\n",
              "  <tbody>\n",
              "    <tr>\n",
              "      <th>0</th>\n",
              "      <td>2015</td>\n",
              "      <td>https://www.airbnb.com/rooms/2015</td>\n",
              "      <td>20181107122246</td>\n",
              "      <td>2018-11-07</td>\n",
              "      <td>Berlin-Mitte Value! Quiet courtyard/very central</td>\n",
              "      <td>Great location!  30 of 75 sq meters. This wood...</td>\n",
              "      <td>A+++ location! This „Einliegerwohnung“ is an e...</td>\n",
              "      <td>Great location!  30 of 75 sq meters. This wood...</td>\n",
              "      <td>none</td>\n",
              "      <td>It is located in the former East Berlin area o...</td>\n",
              "      <td>This is my home, not a hotel. I rent out occas...</td>\n",
              "      <td>Close to U-Bahn U8 and U2 (metro), Trams M12, ...</td>\n",
              "      <td>Simple kitchen/cooking, refrigerator, microwav...</td>\n",
              "      <td>Always available</td>\n",
              "      <td>No parties No events No pets No smoking, not e...</td>\n",
              "      <td>NaN</td>\n",
              "      <td>NaN</td>\n",
              "      <td>https://a0.muscache.com/im/pictures/260fd609-7...</td>\n",
              "      <td>NaN</td>\n",
              "      <td>2217</td>\n",
              "      <td>https://www.airbnb.com/users/show/2217</td>\n",
              "      <td>Ian</td>\n",
              "      <td>2008-08-18</td>\n",
              "      <td>Key Biscayne, Florida, United States</td>\n",
              "      <td>Believe in sharing economy.</td>\n",
              "      <td>within an hour</td>\n",
              "      <td>96%</td>\n",
              "      <td>NaN</td>\n",
              "      <td>t</td>\n",
              "      <td>https://a0.muscache.com/im/pictures/21428a22-4...</td>\n",
              "      <td>https://a0.muscache.com/im/pictures/21428a22-4...</td>\n",
              "      <td>Mitte</td>\n",
              "      <td>4.0</td>\n",
              "      <td>4.0</td>\n",
              "      <td>['email', 'phone', 'reviews', 'jumio', 'offlin...</td>\n",
              "      <td>t</td>\n",
              "      <td>t</td>\n",
              "      <td>Berlin, Berlin, Germany</td>\n",
              "      <td>Mitte</td>\n",
              "      <td>Brunnenstr. Süd</td>\n",
              "      <td>...</td>\n",
              "      <td>2.0</td>\n",
              "      <td>Real Bed</td>\n",
              "      <td>{TV,\"Cable TV\",Wifi,Kitchen,Gym,Heating,\"Famil...</td>\n",
              "      <td>NaN</td>\n",
              "      <td>$60.00</td>\n",
              "      <td>NaN</td>\n",
              "      <td>NaN</td>\n",
              "      <td>$200.00</td>\n",
              "      <td>$30.00</td>\n",
              "      <td>1</td>\n",
              "      <td>$28.00</td>\n",
              "      <td>4</td>\n",
              "      <td>1125</td>\n",
              "      <td>3 months ago</td>\n",
              "      <td>t</td>\n",
              "      <td>0</td>\n",
              "      <td>21</td>\n",
              "      <td>51</td>\n",
              "      <td>141</td>\n",
              "      <td>2018-11-07</td>\n",
              "      <td>118</td>\n",
              "      <td>2016-04-11</td>\n",
              "      <td>2018-10-28</td>\n",
              "      <td>93.0</td>\n",
              "      <td>10.0</td>\n",
              "      <td>9.0</td>\n",
              "      <td>10.0</td>\n",
              "      <td>10.0</td>\n",
              "      <td>10.0</td>\n",
              "      <td>9.0</td>\n",
              "      <td>t</td>\n",
              "      <td>NaN</td>\n",
              "      <td>NaN</td>\n",
              "      <td>f</td>\n",
              "      <td>f</td>\n",
              "      <td>strict_14_with_grace_period</td>\n",
              "      <td>f</td>\n",
              "      <td>f</td>\n",
              "      <td>4</td>\n",
              "      <td>3.76</td>\n",
              "    </tr>\n",
              "    <tr>\n",
              "      <th>1</th>\n",
              "      <td>2695</td>\n",
              "      <td>https://www.airbnb.com/rooms/2695</td>\n",
              "      <td>20181107122246</td>\n",
              "      <td>2018-11-07</td>\n",
              "      <td>Prenzlauer Berg close to Mauerpark</td>\n",
              "      <td>NaN</td>\n",
              "      <td>In the summertime we are spending most of our ...</td>\n",
              "      <td>In the summertime we are spending most of our ...</td>\n",
              "      <td>none</td>\n",
              "      <td>NaN</td>\n",
              "      <td>NaN</td>\n",
              "      <td>Within walking distance you'll find the S-Bahn...</td>\n",
              "      <td>Außer deinem Zimmer kannst du noch die Küche u...</td>\n",
              "      <td>NaN</td>\n",
              "      <td>NaN</td>\n",
              "      <td>NaN</td>\n",
              "      <td>NaN</td>\n",
              "      <td>https://a0.muscache.com/im/pictures/97d4f6e8-1...</td>\n",
              "      <td>NaN</td>\n",
              "      <td>2986</td>\n",
              "      <td>https://www.airbnb.com/users/show/2986</td>\n",
              "      <td>Michael</td>\n",
              "      <td>2008-09-16</td>\n",
              "      <td>Berlin, Berlin, Germany</td>\n",
              "      <td>Living with my wife in Berlin.  Like travellin...</td>\n",
              "      <td>NaN</td>\n",
              "      <td>NaN</td>\n",
              "      <td>NaN</td>\n",
              "      <td>f</td>\n",
              "      <td>https://a0.muscache.com/im/pictures/50434955-1...</td>\n",
              "      <td>https://a0.muscache.com/im/pictures/50434955-1...</td>\n",
              "      <td>Prenzlauer Berg</td>\n",
              "      <td>1.0</td>\n",
              "      <td>1.0</td>\n",
              "      <td>['email', 'phone', 'reviews', 'jumio', 'govern...</td>\n",
              "      <td>t</td>\n",
              "      <td>t</td>\n",
              "      <td>Berlin, Berlin, Germany</td>\n",
              "      <td>NaN</td>\n",
              "      <td>Prenzlauer Berg Nordwest</td>\n",
              "      <td>...</td>\n",
              "      <td>1.0</td>\n",
              "      <td>Real Bed</td>\n",
              "      <td>{Wifi,Kitchen,Elevator,Heating,Washer,Essentia...</td>\n",
              "      <td>NaN</td>\n",
              "      <td>$17.00</td>\n",
              "      <td>NaN</td>\n",
              "      <td>NaN</td>\n",
              "      <td>$0.00</td>\n",
              "      <td>$0.00</td>\n",
              "      <td>1</td>\n",
              "      <td>$0.00</td>\n",
              "      <td>2</td>\n",
              "      <td>40</td>\n",
              "      <td>7 weeks ago</td>\n",
              "      <td>t</td>\n",
              "      <td>0</td>\n",
              "      <td>0</td>\n",
              "      <td>0</td>\n",
              "      <td>0</td>\n",
              "      <td>2018-11-07</td>\n",
              "      <td>6</td>\n",
              "      <td>2018-07-04</td>\n",
              "      <td>2018-10-01</td>\n",
              "      <td>100.0</td>\n",
              "      <td>10.0</td>\n",
              "      <td>10.0</td>\n",
              "      <td>10.0</td>\n",
              "      <td>10.0</td>\n",
              "      <td>10.0</td>\n",
              "      <td>10.0</td>\n",
              "      <td>t</td>\n",
              "      <td>NaN</td>\n",
              "      <td>NaN</td>\n",
              "      <td>f</td>\n",
              "      <td>f</td>\n",
              "      <td>flexible</td>\n",
              "      <td>f</td>\n",
              "      <td>f</td>\n",
              "      <td>1</td>\n",
              "      <td>1.42</td>\n",
              "    </tr>\n",
              "    <tr>\n",
              "      <th>2</th>\n",
              "      <td>3176</td>\n",
              "      <td>https://www.airbnb.com/rooms/3176</td>\n",
              "      <td>20181107122246</td>\n",
              "      <td>2018-11-07</td>\n",
              "      <td>Fabulous Flat in great Location</td>\n",
              "      <td>This beautiful first floor apartment  is situa...</td>\n",
              "      <td>1st floor (68m2) apartment on Kollwitzplatz/ P...</td>\n",
              "      <td>This beautiful first floor apartment  is situa...</td>\n",
              "      <td>none</td>\n",
              "      <td>The neighbourhood is famous for its variety of...</td>\n",
              "      <td>We welcome FAMILIES and cater especially for y...</td>\n",
              "      <td>We are 5 min walk  away from the tram M2, whic...</td>\n",
              "      <td>The apartment will be entirely yours. We are c...</td>\n",
              "      <td>Feel free to ask any questions prior to bookin...</td>\n",
              "      <td>It’s a non smoking flat, which likes to be tre...</td>\n",
              "      <td>NaN</td>\n",
              "      <td>NaN</td>\n",
              "      <td>https://a0.muscache.com/im/pictures/243355/84a...</td>\n",
              "      <td>NaN</td>\n",
              "      <td>3718</td>\n",
              "      <td>https://www.airbnb.com/users/show/3718</td>\n",
              "      <td>Britta</td>\n",
              "      <td>2008-10-19</td>\n",
              "      <td>Coledale, New South Wales, Australia</td>\n",
              "      <td>We love to travel ourselves a lot and prefer t...</td>\n",
              "      <td>within a day</td>\n",
              "      <td>100%</td>\n",
              "      <td>NaN</td>\n",
              "      <td>f</td>\n",
              "      <td>https://a0.muscache.com/im/users/3718/profile_...</td>\n",
              "      <td>https://a0.muscache.com/im/users/3718/profile_...</td>\n",
              "      <td>Prenzlauer Berg</td>\n",
              "      <td>1.0</td>\n",
              "      <td>1.0</td>\n",
              "      <td>['email', 'phone', 'facebook', 'reviews', 'man...</td>\n",
              "      <td>t</td>\n",
              "      <td>t</td>\n",
              "      <td>Berlin, Berlin, Germany</td>\n",
              "      <td>Prenzlauer Berg</td>\n",
              "      <td>Prenzlauer Berg Südwest</td>\n",
              "      <td>...</td>\n",
              "      <td>2.0</td>\n",
              "      <td>Real Bed</td>\n",
              "      <td>{Internet,Wifi,Kitchen,\"Buzzer/wireless interc...</td>\n",
              "      <td>720.0</td>\n",
              "      <td>$90.00</td>\n",
              "      <td>$520.00</td>\n",
              "      <td>$1,900.00</td>\n",
              "      <td>$200.00</td>\n",
              "      <td>$50.00</td>\n",
              "      <td>2</td>\n",
              "      <td>$20.00</td>\n",
              "      <td>62</td>\n",
              "      <td>1125</td>\n",
              "      <td>a week ago</td>\n",
              "      <td>t</td>\n",
              "      <td>0</td>\n",
              "      <td>0</td>\n",
              "      <td>0</td>\n",
              "      <td>220</td>\n",
              "      <td>2018-11-07</td>\n",
              "      <td>143</td>\n",
              "      <td>2009-06-20</td>\n",
              "      <td>2017-03-20</td>\n",
              "      <td>92.0</td>\n",
              "      <td>9.0</td>\n",
              "      <td>9.0</td>\n",
              "      <td>9.0</td>\n",
              "      <td>9.0</td>\n",
              "      <td>10.0</td>\n",
              "      <td>9.0</td>\n",
              "      <td>t</td>\n",
              "      <td>NaN</td>\n",
              "      <td>NaN</td>\n",
              "      <td>t</td>\n",
              "      <td>f</td>\n",
              "      <td>strict_14_with_grace_period</td>\n",
              "      <td>f</td>\n",
              "      <td>f</td>\n",
              "      <td>1</td>\n",
              "      <td>1.25</td>\n",
              "    </tr>\n",
              "    <tr>\n",
              "      <th>3</th>\n",
              "      <td>3309</td>\n",
              "      <td>https://www.airbnb.com/rooms/3309</td>\n",
              "      <td>20181107122246</td>\n",
              "      <td>2018-11-07</td>\n",
              "      <td>BerlinSpot Schöneberg near KaDeWe</td>\n",
              "      <td>First of all: I prefer short-notice bookings. ...</td>\n",
              "      <td>Your room is really big and has 26 sqm, is ver...</td>\n",
              "      <td>First of all: I prefer short-notice bookings. ...</td>\n",
              "      <td>none</td>\n",
              "      <td>My flat is in the middle of West-Berlin, direc...</td>\n",
              "      <td>The flat is a strictly non-smoking facility! A...</td>\n",
              "      <td>The public transportation is excellent: Severa...</td>\n",
              "      <td>I do have a strictly non-smoker-flat.  Keep th...</td>\n",
              "      <td>I'm working as a freelancing photographer. My ...</td>\n",
              "      <td>House-Rules and Information ..............(deu...</td>\n",
              "      <td>NaN</td>\n",
              "      <td>NaN</td>\n",
              "      <td>https://a0.muscache.com/im/pictures/29054294/b...</td>\n",
              "      <td>NaN</td>\n",
              "      <td>4108</td>\n",
              "      <td>https://www.airbnb.com/users/show/4108</td>\n",
              "      <td>Jana</td>\n",
              "      <td>2008-11-07</td>\n",
              "      <td>Berlin, Berlin, Germany</td>\n",
              "      <td>ENJOY EVERY DAY AS IF IT'S YOUR LAST!!! \\r\\n\\r...</td>\n",
              "      <td>NaN</td>\n",
              "      <td>NaN</td>\n",
              "      <td>NaN</td>\n",
              "      <td>f</td>\n",
              "      <td>https://a0.muscache.com/im/pictures/user/b5938...</td>\n",
              "      <td>https://a0.muscache.com/im/pictures/user/b5938...</td>\n",
              "      <td>Schöneberg</td>\n",
              "      <td>1.0</td>\n",
              "      <td>1.0</td>\n",
              "      <td>['email', 'phone', 'reviews', 'jumio', 'govern...</td>\n",
              "      <td>t</td>\n",
              "      <td>t</td>\n",
              "      <td>Berlin, Berlin, Germany</td>\n",
              "      <td>Schöneberg</td>\n",
              "      <td>Schöneberg-Nord</td>\n",
              "      <td>...</td>\n",
              "      <td>1.0</td>\n",
              "      <td>Pull-out Sofa</td>\n",
              "      <td>{Internet,Wifi,\"Pets allowed\",\"Pets live on th...</td>\n",
              "      <td>0.0</td>\n",
              "      <td>$26.00</td>\n",
              "      <td>$175.00</td>\n",
              "      <td>$599.00</td>\n",
              "      <td>$250.00</td>\n",
              "      <td>$30.00</td>\n",
              "      <td>1</td>\n",
              "      <td>$18.00</td>\n",
              "      <td>5</td>\n",
              "      <td>360</td>\n",
              "      <td>4 weeks ago</td>\n",
              "      <td>t</td>\n",
              "      <td>0</td>\n",
              "      <td>0</td>\n",
              "      <td>22</td>\n",
              "      <td>297</td>\n",
              "      <td>2018-11-07</td>\n",
              "      <td>25</td>\n",
              "      <td>2013-08-12</td>\n",
              "      <td>2018-08-16</td>\n",
              "      <td>88.0</td>\n",
              "      <td>9.0</td>\n",
              "      <td>9.0</td>\n",
              "      <td>9.0</td>\n",
              "      <td>10.0</td>\n",
              "      <td>9.0</td>\n",
              "      <td>9.0</td>\n",
              "      <td>t</td>\n",
              "      <td>NaN</td>\n",
              "      <td>NaN</td>\n",
              "      <td>f</td>\n",
              "      <td>f</td>\n",
              "      <td>strict_14_with_grace_period</td>\n",
              "      <td>f</td>\n",
              "      <td>f</td>\n",
              "      <td>1</td>\n",
              "      <td>0.39</td>\n",
              "    </tr>\n",
              "    <tr>\n",
              "      <th>4</th>\n",
              "      <td>7071</td>\n",
              "      <td>https://www.airbnb.com/rooms/7071</td>\n",
              "      <td>20181107122246</td>\n",
              "      <td>2018-11-07</td>\n",
              "      <td>BrightRoom with sunny greenview!</td>\n",
              "      <td>Cozy and large room in the beautiful district ...</td>\n",
              "      <td>The BrightRoom is an approx. 20 sqm (215ft²), ...</td>\n",
              "      <td>Cozy and large room in the beautiful district ...</td>\n",
              "      <td>none</td>\n",
              "      <td>Great neighborhood with plenty of Cafés, Baker...</td>\n",
              "      <td>I hope you enjoy your stay to the fullest! Ple...</td>\n",
              "      <td>Best access to other parts of the city via pub...</td>\n",
              "      <td>The guests have access to the bathroom, a smal...</td>\n",
              "      <td>I am glad if I can give you advice or help as ...</td>\n",
              "      <td>Please take good care of everything during you...</td>\n",
              "      <td>NaN</td>\n",
              "      <td>NaN</td>\n",
              "      <td>https://a0.muscache.com/im/pictures/21278/32a1...</td>\n",
              "      <td>NaN</td>\n",
              "      <td>17391</td>\n",
              "      <td>https://www.airbnb.com/users/show/17391</td>\n",
              "      <td>Bright</td>\n",
              "      <td>2009-05-16</td>\n",
              "      <td>Berlin, Berlin, Germany</td>\n",
              "      <td>I'm a creative person, adventurer, and travele...</td>\n",
              "      <td>within an hour</td>\n",
              "      <td>100%</td>\n",
              "      <td>NaN</td>\n",
              "      <td>t</td>\n",
              "      <td>https://a0.muscache.com/im/pictures/user/48c3d...</td>\n",
              "      <td>https://a0.muscache.com/im/pictures/user/48c3d...</td>\n",
              "      <td>Prenzlauer Berg</td>\n",
              "      <td>1.0</td>\n",
              "      <td>1.0</td>\n",
              "      <td>['email', 'phone', 'reviews', 'jumio', 'govern...</td>\n",
              "      <td>t</td>\n",
              "      <td>t</td>\n",
              "      <td>Berlin, Berlin, Germany</td>\n",
              "      <td>Prenzlauer Berg</td>\n",
              "      <td>Helmholtzplatz</td>\n",
              "      <td>...</td>\n",
              "      <td>2.0</td>\n",
              "      <td>Real Bed</td>\n",
              "      <td>{Wifi,Heating,\"Family/kid friendly\",Essentials...</td>\n",
              "      <td>NaN</td>\n",
              "      <td>$42.00</td>\n",
              "      <td>NaN</td>\n",
              "      <td>NaN</td>\n",
              "      <td>$0.00</td>\n",
              "      <td>$0.00</td>\n",
              "      <td>1</td>\n",
              "      <td>$24.00</td>\n",
              "      <td>2</td>\n",
              "      <td>10</td>\n",
              "      <td>3 days ago</td>\n",
              "      <td>t</td>\n",
              "      <td>15</td>\n",
              "      <td>26</td>\n",
              "      <td>26</td>\n",
              "      <td>26</td>\n",
              "      <td>2018-11-07</td>\n",
              "      <td>197</td>\n",
              "      <td>2009-08-18</td>\n",
              "      <td>2018-11-04</td>\n",
              "      <td>96.0</td>\n",
              "      <td>10.0</td>\n",
              "      <td>10.0</td>\n",
              "      <td>10.0</td>\n",
              "      <td>10.0</td>\n",
              "      <td>10.0</td>\n",
              "      <td>9.0</td>\n",
              "      <td>t</td>\n",
              "      <td>NaN</td>\n",
              "      <td>NaN</td>\n",
              "      <td>f</td>\n",
              "      <td>f</td>\n",
              "      <td>moderate</td>\n",
              "      <td>f</td>\n",
              "      <td>f</td>\n",
              "      <td>1</td>\n",
              "      <td>1.75</td>\n",
              "    </tr>\n",
              "  </tbody>\n",
              "</table>\n",
              "<p>5 rows × 96 columns</p>\n",
              "</div>"
            ],
            "text/plain": [
              "     id  ... reviews_per_month\n",
              "0  2015  ...              3.76\n",
              "1  2695  ...              1.42\n",
              "2  3176  ...              1.25\n",
              "3  3309  ...              0.39\n",
              "4  7071  ...              1.75\n",
              "\n",
              "[5 rows x 96 columns]"
            ]
          },
          "metadata": {
            "tags": []
          },
          "execution_count": 11
        }
      ]
    },
    {
      "cell_type": "code",
      "metadata": {
        "id": "9PwbhfrhBcdx",
        "colab_type": "code",
        "outputId": "25ea2bf2-13af-433c-96e9-d5fdafd73da9",
        "colab": {
          "base_uri": "https://localhost:8080/",
          "height": 510
        }
      },
      "source": [
        "listings_summary.columns"
      ],
      "execution_count": 12,
      "outputs": [
        {
          "output_type": "execute_result",
          "data": {
            "text/plain": [
              "Index(['id', 'listing_url', 'scrape_id', 'last_scraped', 'name', 'summary',\n",
              "       'space', 'description', 'experiences_offered', 'neighborhood_overview',\n",
              "       'notes', 'transit', 'access', 'interaction', 'house_rules',\n",
              "       'thumbnail_url', 'medium_url', 'picture_url', 'xl_picture_url',\n",
              "       'host_id', 'host_url', 'host_name', 'host_since', 'host_location',\n",
              "       'host_about', 'host_response_time', 'host_response_rate',\n",
              "       'host_acceptance_rate', 'host_is_superhost', 'host_thumbnail_url',\n",
              "       'host_picture_url', 'host_neighbourhood', 'host_listings_count',\n",
              "       'host_total_listings_count', 'host_verifications',\n",
              "       'host_has_profile_pic', 'host_identity_verified', 'street',\n",
              "       'neighbourhood', 'neighbourhood_cleansed',\n",
              "       'neighbourhood_group_cleansed', 'city', 'state', 'zipcode', 'market',\n",
              "       'smart_location', 'country_code', 'country', 'latitude', 'longitude',\n",
              "       'is_location_exact', 'property_type', 'room_type', 'accommodates',\n",
              "       'bathrooms', 'bedrooms', 'beds', 'bed_type', 'amenities', 'square_feet',\n",
              "       'price', 'weekly_price', 'monthly_price', 'security_deposit',\n",
              "       'cleaning_fee', 'guests_included', 'extra_people', 'minimum_nights',\n",
              "       'maximum_nights', 'calendar_updated', 'has_availability',\n",
              "       'availability_30', 'availability_60', 'availability_90',\n",
              "       'availability_365', 'calendar_last_scraped', 'number_of_reviews',\n",
              "       'first_review', 'last_review', 'review_scores_rating',\n",
              "       'review_scores_accuracy', 'review_scores_cleanliness',\n",
              "       'review_scores_checkin', 'review_scores_communication',\n",
              "       'review_scores_location', 'review_scores_value', 'requires_license',\n",
              "       'license', 'jurisdiction_names', 'instant_bookable',\n",
              "       'is_business_travel_ready', 'cancellation_policy',\n",
              "       'require_guest_profile_picture', 'require_guest_phone_verification',\n",
              "       'calculated_host_listings_count', 'reviews_per_month'],\n",
              "      dtype='object')"
            ]
          },
          "metadata": {
            "tags": []
          },
          "execution_count": 12
        }
      ]
    },
    {
      "cell_type": "code",
      "metadata": {
        "id": "sRzC6lXe8EuD",
        "colab_type": "code",
        "colab": {}
      },
      "source": [
        "selected_columns=[ 'property_type', 'accommodates','bathrooms', 'bedrooms', 'beds', 'square_feet','availability_30', 'availability_60', 'availability_90',\n",
        "       'availability_365','review_scores_rating', 'instant_bookable','price']"
      ],
      "execution_count": 0,
      "outputs": []
    },
    {
      "cell_type": "code",
      "metadata": {
        "id": "qP8DGqyTxQGE",
        "colab_type": "code",
        "colab": {}
      },
      "source": [
        "data = listings_summary[selected_columns]"
      ],
      "execution_count": 0,
      "outputs": []
    },
    {
      "cell_type": "code",
      "metadata": {
        "id": "5m-SAnwV5vPa",
        "colab_type": "code",
        "outputId": "3b721819-d6df-41c5-97e9-0be683017418",
        "colab": {
          "base_uri": "https://localhost:8080/",
          "height": 241
        }
      },
      "source": [
        "print(data.shape)\n",
        "data.head()"
      ],
      "execution_count": 15,
      "outputs": [
        {
          "output_type": "stream",
          "text": [
            "(22552, 13)\n"
          ],
          "name": "stdout"
        },
        {
          "output_type": "execute_result",
          "data": {
            "text/html": [
              "<div>\n",
              "<style scoped>\n",
              "    .dataframe tbody tr th:only-of-type {\n",
              "        vertical-align: middle;\n",
              "    }\n",
              "\n",
              "    .dataframe tbody tr th {\n",
              "        vertical-align: top;\n",
              "    }\n",
              "\n",
              "    .dataframe thead th {\n",
              "        text-align: right;\n",
              "    }\n",
              "</style>\n",
              "<table border=\"1\" class=\"dataframe\">\n",
              "  <thead>\n",
              "    <tr style=\"text-align: right;\">\n",
              "      <th></th>\n",
              "      <th>property_type</th>\n",
              "      <th>accommodates</th>\n",
              "      <th>bathrooms</th>\n",
              "      <th>bedrooms</th>\n",
              "      <th>beds</th>\n",
              "      <th>square_feet</th>\n",
              "      <th>availability_30</th>\n",
              "      <th>availability_60</th>\n",
              "      <th>availability_90</th>\n",
              "      <th>availability_365</th>\n",
              "      <th>review_scores_rating</th>\n",
              "      <th>instant_bookable</th>\n",
              "      <th>price</th>\n",
              "    </tr>\n",
              "  </thead>\n",
              "  <tbody>\n",
              "    <tr>\n",
              "      <th>0</th>\n",
              "      <td>Guesthouse</td>\n",
              "      <td>3</td>\n",
              "      <td>1.0</td>\n",
              "      <td>1.0</td>\n",
              "      <td>2.0</td>\n",
              "      <td>NaN</td>\n",
              "      <td>0</td>\n",
              "      <td>21</td>\n",
              "      <td>51</td>\n",
              "      <td>141</td>\n",
              "      <td>93.0</td>\n",
              "      <td>f</td>\n",
              "      <td>$60.00</td>\n",
              "    </tr>\n",
              "    <tr>\n",
              "      <th>1</th>\n",
              "      <td>Apartment</td>\n",
              "      <td>2</td>\n",
              "      <td>1.0</td>\n",
              "      <td>1.0</td>\n",
              "      <td>1.0</td>\n",
              "      <td>NaN</td>\n",
              "      <td>0</td>\n",
              "      <td>0</td>\n",
              "      <td>0</td>\n",
              "      <td>0</td>\n",
              "      <td>100.0</td>\n",
              "      <td>f</td>\n",
              "      <td>$17.00</td>\n",
              "    </tr>\n",
              "    <tr>\n",
              "      <th>2</th>\n",
              "      <td>Apartment</td>\n",
              "      <td>4</td>\n",
              "      <td>1.0</td>\n",
              "      <td>1.0</td>\n",
              "      <td>2.0</td>\n",
              "      <td>720.0</td>\n",
              "      <td>0</td>\n",
              "      <td>0</td>\n",
              "      <td>0</td>\n",
              "      <td>220</td>\n",
              "      <td>92.0</td>\n",
              "      <td>t</td>\n",
              "      <td>$90.00</td>\n",
              "    </tr>\n",
              "    <tr>\n",
              "      <th>3</th>\n",
              "      <td>Apartment</td>\n",
              "      <td>2</td>\n",
              "      <td>1.0</td>\n",
              "      <td>1.0</td>\n",
              "      <td>1.0</td>\n",
              "      <td>0.0</td>\n",
              "      <td>0</td>\n",
              "      <td>0</td>\n",
              "      <td>22</td>\n",
              "      <td>297</td>\n",
              "      <td>88.0</td>\n",
              "      <td>f</td>\n",
              "      <td>$26.00</td>\n",
              "    </tr>\n",
              "    <tr>\n",
              "      <th>4</th>\n",
              "      <td>Apartment</td>\n",
              "      <td>2</td>\n",
              "      <td>1.0</td>\n",
              "      <td>1.0</td>\n",
              "      <td>2.0</td>\n",
              "      <td>NaN</td>\n",
              "      <td>15</td>\n",
              "      <td>26</td>\n",
              "      <td>26</td>\n",
              "      <td>26</td>\n",
              "      <td>96.0</td>\n",
              "      <td>f</td>\n",
              "      <td>$42.00</td>\n",
              "    </tr>\n",
              "  </tbody>\n",
              "</table>\n",
              "</div>"
            ],
            "text/plain": [
              "  property_type  accommodates  ...  instant_bookable   price\n",
              "0    Guesthouse             3  ...                 f  $60.00\n",
              "1     Apartment             2  ...                 f  $17.00\n",
              "2     Apartment             4  ...                 t  $90.00\n",
              "3     Apartment             2  ...                 f  $26.00\n",
              "4     Apartment             2  ...                 f  $42.00\n",
              "\n",
              "[5 rows x 13 columns]"
            ]
          },
          "metadata": {
            "tags": []
          },
          "execution_count": 15
        }
      ]
    },
    {
      "cell_type": "markdown",
      "metadata": {
        "id": "ht64IAm43vIL",
        "colab_type": "text"
      },
      "source": [
        "__Check for Missing Values:__"
      ]
    },
    {
      "cell_type": "code",
      "metadata": {
        "id": "S-Wn5dlB5wc_",
        "colab_type": "code",
        "outputId": "7c3fb4f7-c8c8-4449-8984-fa24c587b26e",
        "colab": {
          "base_uri": "https://localhost:8080/",
          "height": 323
        }
      },
      "source": [
        "data.info()"
      ],
      "execution_count": 16,
      "outputs": [
        {
          "output_type": "stream",
          "text": [
            "<class 'pandas.core.frame.DataFrame'>\n",
            "RangeIndex: 22552 entries, 0 to 22551\n",
            "Data columns (total 13 columns):\n",
            "property_type           22552 non-null object\n",
            "accommodates            22552 non-null int64\n",
            "bathrooms               22520 non-null float64\n",
            "bedrooms                22534 non-null float64\n",
            "beds                    22512 non-null float64\n",
            "square_feet             446 non-null float64\n",
            "availability_30         22552 non-null int64\n",
            "availability_60         22552 non-null int64\n",
            "availability_90         22552 non-null int64\n",
            "availability_365        22552 non-null int64\n",
            "review_scores_rating    18163 non-null float64\n",
            "instant_bookable        22552 non-null object\n",
            "price                   22552 non-null object\n",
            "dtypes: float64(5), int64(5), object(3)\n",
            "memory usage: 2.2+ MB\n"
          ],
          "name": "stdout"
        }
      ]
    },
    {
      "cell_type": "code",
      "metadata": {
        "id": "VM2dVaEWCj7V",
        "colab_type": "code",
        "colab": {}
      },
      "source": [
        "# filling NaN values to 0\n",
        "\n",
        "data= data.fillna(value=0)"
      ],
      "execution_count": 0,
      "outputs": []
    },
    {
      "cell_type": "code",
      "metadata": {
        "id": "TIHPTBS7Eipm",
        "colab_type": "code",
        "outputId": "f4e2d86a-a992-456b-c69d-dbeba8a89d12",
        "colab": {
          "base_uri": "https://localhost:8080/",
          "height": 323
        }
      },
      "source": [
        "data.info()"
      ],
      "execution_count": 18,
      "outputs": [
        {
          "output_type": "stream",
          "text": [
            "<class 'pandas.core.frame.DataFrame'>\n",
            "RangeIndex: 22552 entries, 0 to 22551\n",
            "Data columns (total 13 columns):\n",
            "property_type           22552 non-null object\n",
            "accommodates            22552 non-null int64\n",
            "bathrooms               22552 non-null float64\n",
            "bedrooms                22552 non-null float64\n",
            "beds                    22552 non-null float64\n",
            "square_feet             22552 non-null float64\n",
            "availability_30         22552 non-null int64\n",
            "availability_60         22552 non-null int64\n",
            "availability_90         22552 non-null int64\n",
            "availability_365        22552 non-null int64\n",
            "review_scores_rating    22552 non-null float64\n",
            "instant_bookable        22552 non-null object\n",
            "price                   22552 non-null object\n",
            "dtypes: float64(5), int64(5), object(3)\n",
            "memory usage: 2.2+ MB\n"
          ],
          "name": "stdout"
        }
      ]
    },
    {
      "cell_type": "markdown",
      "metadata": {
        "id": "L04bQ2li3aJ9",
        "colab_type": "text"
      },
      "source": [
        "__No missing values, now we can progress with our dataset__"
      ]
    },
    {
      "cell_type": "code",
      "metadata": {
        "id": "QfTUjNQ93_Kd",
        "colab_type": "code",
        "outputId": "cf09c4c7-e6dc-4612-cf2d-afa5b2ed07d8",
        "colab": {
          "base_uri": "https://localhost:8080/",
          "height": 921
        }
      },
      "source": [
        "def unique():\n",
        "    for i in data.columns:\n",
        "        z =data[i].unique().tolist()\n",
        "        print(i,\":\")\n",
        "        print(z, \"\")\n",
        "        print(len(z))\n",
        "        print(\"\")\n",
        "        \n",
        "unique()"
      ],
      "execution_count": 19,
      "outputs": [
        {
          "output_type": "stream",
          "text": [
            "property_type :\n",
            "['Guesthouse', 'Apartment', 'Condominium', 'Loft', 'House', 'Serviced apartment', 'Townhouse', 'Boutique hotel', 'Bed and breakfast', 'Bungalow', 'Boat', 'Guest suite', 'Other', 'Island', 'Hostel', 'Train', 'Camper/RV', 'Houseboat', 'Cabin', 'Cottage', 'Tiny house', 'Chalet', 'Castle', 'Villa', 'Aparthotel', 'Hotel', 'Tipi', 'Resort', 'In-law', 'Cave', 'Barn', 'Pension (South Korea)', 'Casa particular (Cuba)'] \n",
            "33\n",
            "\n",
            "accommodates :\n",
            "[3, 2, 4, 7, 5, 8, 6, 1, 10, 14, 12, 15, 9, 16, 11, 13] \n",
            "16\n",
            "\n",
            "bathrooms :\n",
            "[1.0, 2.5, 2.0, 0.0, 1.5, 0.5, 5.0, 3.0, 4.5, 3.5, 7.0, 7.5, 8.0, 4.0, 6.0, 8.5] \n",
            "16\n",
            "\n",
            "bedrooms :\n",
            "[1.0, 4.0, 0.0, 2.0, 3.0, 5.0, 8.0, 6.0, 10.0, 7.0, 12.0, 9.0] \n",
            "12\n",
            "\n",
            "beds :\n",
            "[2.0, 1.0, 7.0, 3.0, 4.0, 8.0, 0.0, 5.0, 6.0, 10.0, 15.0, 9.0, 16.0, 12.0, 11.0, 13.0, 14.0, 22.0] \n",
            "18\n",
            "\n",
            "square_feet :\n",
            "[0.0, 720.0, 753.0, 1012.0, 646.0, 215.0, 452.0, 807.0, 474.0, 431.0, 323.0, 1615.0, 775.0, 495.0, 1087.0, 484.0, 65.0, 969.0, 388.0, 269.0, 54.0, 15.0, 46.0, 1023.0, 1292.0, 861.0, 517.0, 570.0, 463.0, 1722.0, 678.0, 581.0, 527.0, 409.0, 220.0, 20.0, 161.0, 258.0, 172.0, 377.0, 97.0, 344.0, 829.0, 50.0, 538.0, 840.0, 549.0, 280.0, 129.0, 915.0, 732.0, 70.0, 355.0, 17.0, 248.0, 194.0, 1400.0, 226.0, 592.0, 560.0, 689.0, 151.0, 797.0, 440.0, 700.0, 1399.0, 1238.0, 334.0, 1076.0, 721.0, 1830.0, 650.0, 33.0, 624.0, 24.0, 667.0, 603.0, 710.0, 450.0, 3337.0, 4639.0, 1033.0, 1130.0, 301.0, 366.0, 312.0, 2368.0, 2260.0, 818.0, 118.0, 1055.0, 936.0, 1195.0, 810.0, 1184.0, 1206.0, 16.0, 420.0, 1539.0, 55.0, 1507.0, 291.0, 1776.0, 205.0, 183.0, 1367.0, 240.0, 398.0, 2153.0, 237.0, 108.0] \n",
            "111\n",
            "\n",
            "availability_30 :\n",
            "[0, 15, 30, 8, 9, 16, 3, 14, 26, 17, 10, 1, 6, 19, 5, 7, 29, 12, 22, 4, 2, 18, 28, 11, 20, 23, 27, 13, 25, 24, 21] \n",
            "31\n",
            "\n",
            "availability_60 :\n",
            "[21, 0, 26, 7, 60, 18, 13, 46, 6, 3, 31, 36, 1, 11, 56, 41, 38, 25, 5, 15, 35, 2, 33, 47, 4, 17, 42, 27, 44, 54, 28, 8, 10, 23, 19, 14, 58, 9, 45, 20, 37, 39, 12, 57, 59, 43, 16, 24, 32, 48, 30, 29, 40, 34, 50, 52, 49, 55, 22, 51, 53] \n",
            "61\n",
            "\n",
            "availability_90 :\n",
            "[51, 0, 22, 26, 7, 90, 42, 29, 76, 6, 48, 3, 61, 66, 1, 40, 86, 71, 68, 46, 54, 25, 30, 35, 45, 65, 31, 33, 10, 36, 77, 27, 72, 52, 23, 43, 74, 84, 28, 17, 18, 53, 21, 44, 88, 75, 14, 38, 47, 37, 50, 49, 67, 39, 87, 2, 69, 16, 89, 5, 34, 63, 15, 62, 41, 64, 9, 80, 70, 59, 32, 20, 57, 55, 19, 4, 56, 13, 79, 12, 24, 85, 11, 73, 78, 58, 8, 60, 82, 81, 83] \n",
            "91\n",
            "\n",
            "availability_365 :\n",
            "[141, 0, 220, 297, 26, 137, 129, 365, 159, 42, 232, 166, 257, 228, 275, 3, 15, 336, 191, 55, 341, 221, 296, 361, 343, 89, 329, 25, 120, 310, 217, 285, 186, 65, 32, 264, 33, 67, 68, 352, 211, 149, 86, 347, 323, 123, 58, 315, 349, 178, 359, 28, 286, 69, 225, 249, 139, 328, 109, 2, 319, 363, 236, 194, 140, 344, 266, 340, 295, 302, 202, 322, 312, 50, 324, 84, 342, 282, 1, 291, 325, 222, 214, 253, 5, 16, 190, 362, 320, 280, 364, 309, 331, 333, 96, 243, 244, 167, 287, 272, 224, 258, 205, 130, 87, 242, 105, 6, 43, 301, 62, 142, 338, 66, 321, 133, 97, 21, 316, 326, 64, 276, 107, 339, 113, 355, 136, 311, 104, 93, 251, 345, 79, 103, 212, 277, 307, 91, 271, 27, 274, 304, 44, 81, 270, 279, 158, 238, 283, 35, 308, 290, 146, 305, 254, 219, 13, 124, 48, 354, 90, 12, 235, 318, 314, 94, 268, 7, 99, 37, 334, 250, 61, 119, 227, 108, 118, 177, 121, 176, 30, 155, 265, 248, 73, 20, 36, 247, 252, 4, 23, 160, 262, 80, 153, 173, 147, 216, 201, 127, 246, 330, 72, 150, 18, 193, 284, 293, 31, 255, 269, 11, 313, 260, 273, 98, 184, 289, 143, 59, 353, 306, 9, 114, 346, 22, 128, 88, 335, 234, 241, 218, 298, 180, 54, 45, 14, 154, 77, 207, 278, 185, 46, 303, 117, 294, 63, 132, 215, 17, 263, 51, 78, 29, 38, 317, 300, 350, 24, 52, 356, 337, 204, 233, 95, 288, 40, 70, 171, 348, 261, 292, 56, 360, 358, 256, 164, 85, 200, 47, 230, 299, 189, 170, 41, 126, 188, 76, 267, 82, 357, 259, 101, 34, 92, 183, 135, 138, 240, 223, 145, 49, 131, 197, 106, 125, 229, 19, 74, 57, 165, 172, 8, 39, 83, 174, 332, 10, 175, 156, 60, 151, 198, 226, 71, 281, 196, 351, 148, 102, 53, 327, 179, 161, 181, 206, 195, 100, 75, 231, 213, 168, 111, 245, 209, 157, 112, 187, 110, 152, 208, 163, 169, 210, 162, 239, 116, 192, 237, 144, 122, 115, 182, 134, 203, 199] \n",
            "366\n",
            "\n",
            "review_scores_rating :\n",
            "[93.0, 100.0, 92.0, 88.0, 96.0, 0.0, 94.0, 87.0, 95.0, 91.0, 89.0, 90.0, 97.0, 80.0, 85.0, 98.0, 84.0, 83.0, 81.0, 99.0, 77.0, 86.0, 79.0, 76.0, 75.0, 82.0, 73.0, 40.0, 53.0, 78.0, 70.0, 71.0, 60.0, 20.0, 50.0, 72.0, 67.0, 68.0, 69.0, 65.0, 74.0, 56.0, 30.0, 33.0, 64.0, 63.0, 57.0] \n",
            "47\n",
            "\n",
            "instant_bookable :\n",
            "['f', 't'] \n",
            "2\n",
            "\n",
            "price :\n",
            "['$60.00', '$17.00', '$90.00', '$26.00', '$42.00', '$180.00', '$70.00', '$120.00', '$45.00', '$49.00', '$129.00', '$98.00', '$160.00', '$65.00', '$197.00', '$130.00', '$100.00', '$44.00', '$62.00', '$55.00', '$40.00', '$25.00', '$52.00', '$39.00', '$80.00', '$50.00', '$43.00', '$36.00', '$119.00', '$56.00', '$48.00', '$88.00', '$200.00', '$37.00', '$102.00', '$29.00', '$84.00', '$69.00', '$185.00', '$155.00', '$66.00', '$53.00', '$92.00', '$75.00', '$114.00', '$506.00', '$82.00', '$68.00', '$125.00', '$89.00', '$59.00', '$96.00', '$31.00', '$81.00', '$161.00', '$30.00', '$23.00', '$35.00', '$76.00', '$46.00', '$296.00', '$244.00', '$20.00', '$170.00', '$64.00', '$375.00', '$32.00', '$86.00', '$79.00', '$38.00', '$74.00', '$195.00', '$150.00', '$165.00', '$51.00', '$110.00', '$95.00', '$28.00', '$85.00', '$58.00', '$63.00', '$175.00', '$19.00', '$91.00', '$93.00', '$72.00', '$33.00', '$99.00', '$148.00', '$9.00', '$61.00', '$34.00', '$54.00', '$235.00', '$77.00', '$149.00', '$87.00', '$27.00', '$78.00', '$67.00', '$22.00', '$109.00', '$83.00', '$209.00', '$47.00', '$189.00', '$15.00', '$73.00', '$115.00', '$21.00', '$140.00', '$24.00', '$208.00', '$16.00', '$107.00', '$190.00', '$455.00', '$2,228.00', '$106.00', '$139.00', '$105.00', '$111.00', '$146.00', '$650.00', '$57.00', '$131.00', '$145.00', '$329.00', '$135.00', '$108.00', '$350.00', '$18.00', '$97.00', '$41.00', '$199.00', '$104.00', '$117.00', '$280.00', '$158.00', '$137.00', '$580.00', '$124.00', '$250.00', '$193.00', '$210.00', '$71.00', '$300.00', '$169.00', '$94.00', '$229.00', '$390.00', '$147.00', '$8.00', '$12.00', '$153.00', '$159.00', '$220.00', '$121.00', '$2,500.00', '$113.00', '$215.00', '$142.00', '$123.00', '$128.00', '$400.00', '$450.00', '$258.00', '$144.00', '$320.00', '$299.00', '$240.00', '$263.00', '$154.00', '$245.00', '$525.00', '$118.00', '$380.00', '$156.00', '$101.00', '$500.00', '$550.00', '$10.00', '$116.00', '$191.00', '$138.00', '$2,225.00', '$800.00', '$399.00', '$219.00', '$600.00', '$112.00', '$13.00', '$14.00', '$225.00', '$4,240.00', '$290.00', '$11.00', '$270.00', '$275.00', '$255.00', '$595.00', '$177.00', '$285.00', '$187.00', '$134.00', '$302.00', '$359.00', '$349.00', '$360.00', '$9,000.00', '$304.00', '$260.00', '$179.00', '$103.00', '$899.00', '$1,900.00', '$132.00', '$133.00', '$249.00', '$237.00', '$510.00', '$178.00', '$444.00', '$421.00', '$330.00', '$222.00', '$460.00', '$259.00', '$198.00', '$5,000.00', '$262.00', '$241.00', '$252.00', '$333.00', '$203.00', '$172.00', '$319.00', '$227.00', '$279.00', '$265.00', '$1,050.00', '$1,250.00', '$885.00', '$214.00', '$151.00', '$196.00', '$499.00', '$157.00', '$1,000.00', '$269.00', '$0.00', '$239.00', '$1,875.00', '$257.00', '$126.00', '$228.00', '$182.00', '$297.00', '$599.00', '$8,000.00', '$230.00', '$288.00', '$999.00', '$1.00', '$183.00', '$405.00', '$234.00', '$505.00', '$268.00', '$188.00', '$224.00', '$332.00', '$357.00', '$379.00', '$439.00', '$549.00', '$475.00', '$168.00', '$418.00', '$880.00', '$6,000.00', '$340.00', '$3,000.00', '$181.00', '$166.00', '$174.00', '$480.00', '$666.00', '$888.00', '$8,600.00', '$345.00', '$900.00', '$122.00', '$136.00', '$1,500.00'] \n",
            "295\n",
            "\n"
          ],
          "name": "stdout"
        }
      ]
    },
    {
      "cell_type": "code",
      "metadata": {
        "id": "NcU0PmGrNiUc",
        "colab_type": "code",
        "colab": {}
      },
      "source": [
        "# Counting Frequency of property_type\n",
        "\n",
        "property_type= pd.DataFrame(data['property_type'].value_counts())\n",
        "\n",
        "property_type=property_type.reset_index()\n",
        "property_type.columns= [\"property_type\", \"Frequency\"]\n",
        "property_type= property_type.sort_values('Frequency',ascending=False)\n",
        "#property_type.head(4)\n",
        "\n"
      ],
      "execution_count": 0,
      "outputs": []
    },
    {
      "cell_type": "code",
      "metadata": {
        "id": "y3xtiSJdODBA",
        "colab_type": "code",
        "outputId": "5c538052-e9cc-4192-c26c-318e37a78a83",
        "colab": {
          "base_uri": "https://localhost:8080/",
          "height": 359
        }
      },
      "source": [
        "# Taking top 10 dominating property_type\n",
        "\n",
        "property_type=property_type.nlargest(10, \"Frequency\")\n",
        "property_type.head(10)"
      ],
      "execution_count": 21,
      "outputs": [
        {
          "output_type": "execute_result",
          "data": {
            "text/html": [
              "<div>\n",
              "<style scoped>\n",
              "    .dataframe tbody tr th:only-of-type {\n",
              "        vertical-align: middle;\n",
              "    }\n",
              "\n",
              "    .dataframe tbody tr th {\n",
              "        vertical-align: top;\n",
              "    }\n",
              "\n",
              "    .dataframe thead th {\n",
              "        text-align: right;\n",
              "    }\n",
              "</style>\n",
              "<table border=\"1\" class=\"dataframe\">\n",
              "  <thead>\n",
              "    <tr style=\"text-align: right;\">\n",
              "      <th></th>\n",
              "      <th>property_type</th>\n",
              "      <th>Frequency</th>\n",
              "    </tr>\n",
              "  </thead>\n",
              "  <tbody>\n",
              "    <tr>\n",
              "      <th>0</th>\n",
              "      <td>Apartment</td>\n",
              "      <td>20225</td>\n",
              "    </tr>\n",
              "    <tr>\n",
              "      <th>1</th>\n",
              "      <td>Condominium</td>\n",
              "      <td>612</td>\n",
              "    </tr>\n",
              "    <tr>\n",
              "      <th>2</th>\n",
              "      <td>Loft</td>\n",
              "      <td>460</td>\n",
              "    </tr>\n",
              "    <tr>\n",
              "      <th>3</th>\n",
              "      <td>House</td>\n",
              "      <td>398</td>\n",
              "    </tr>\n",
              "    <tr>\n",
              "      <th>4</th>\n",
              "      <td>Serviced apartment</td>\n",
              "      <td>175</td>\n",
              "    </tr>\n",
              "    <tr>\n",
              "      <th>5</th>\n",
              "      <td>Hostel</td>\n",
              "      <td>128</td>\n",
              "    </tr>\n",
              "    <tr>\n",
              "      <th>6</th>\n",
              "      <td>Townhouse</td>\n",
              "      <td>99</td>\n",
              "    </tr>\n",
              "    <tr>\n",
              "      <th>7</th>\n",
              "      <td>Guest suite</td>\n",
              "      <td>74</td>\n",
              "    </tr>\n",
              "    <tr>\n",
              "      <th>8</th>\n",
              "      <td>Bed and breakfast</td>\n",
              "      <td>64</td>\n",
              "    </tr>\n",
              "    <tr>\n",
              "      <th>9</th>\n",
              "      <td>Guesthouse</td>\n",
              "      <td>57</td>\n",
              "    </tr>\n",
              "  </tbody>\n",
              "</table>\n",
              "</div>"
            ],
            "text/plain": [
              "        property_type  Frequency\n",
              "0           Apartment      20225\n",
              "1         Condominium        612\n",
              "2                Loft        460\n",
              "3               House        398\n",
              "4  Serviced apartment        175\n",
              "5              Hostel        128\n",
              "6           Townhouse         99\n",
              "7         Guest suite         74\n",
              "8   Bed and breakfast         64\n",
              "9          Guesthouse         57"
            ]
          },
          "metadata": {
            "tags": []
          },
          "execution_count": 21
        }
      ]
    },
    {
      "cell_type": "code",
      "metadata": {
        "id": "FgGacFK0GNfn",
        "colab_type": "code",
        "outputId": "c371a3b6-c566-425e-ee72-4ae9f5f0b650",
        "colab": {
          "base_uri": "https://localhost:8080/",
          "height": 481
        }
      },
      "source": [
        "plt.figure(figsize=(10,7))\n",
        "\n",
        "sns.barplot(y=property_type[\"property_type\"], x=property_type[\"Frequency\"], color=\"salmon\")\n",
        "plt.xlabel('Frequency')\n",
        "plt.ylabel('Property Classifications')\n",
        "plt.title('Top 10 Property Classifications in our Data')"
      ],
      "execution_count": 22,
      "outputs": [
        {
          "output_type": "execute_result",
          "data": {
            "text/plain": [
              "Text(0.5, 1.0, 'Top 10 Property Classifications in our Data')"
            ]
          },
          "metadata": {
            "tags": []
          },
          "execution_count": 22
        },
        {
          "output_type": "display_data",
          "data": {
            "image/png": "[encoded data removed]",
            "text/plain": [
              "<Figure size 720x504 with 1 Axes>"
            ]
          },
          "metadata": {
            "tags": []
          }
        }
      ]
    },
    {
      "cell_type": "markdown",
      "metadata": {
        "id": "aIblNZx8Qy-1",
        "colab_type": "text"
      },
      "source": [
        "* __It is clear that Appartments are largely available as compared to other property-type.__"
      ]
    },
    {
      "cell_type": "code",
      "metadata": {
        "id": "4d_DyVg6xqj1",
        "colab_type": "code",
        "colab": {}
      },
      "source": [
        "# Counting Frequency of accommodates \n",
        "\n",
        "accommodates = pd.DataFrame(data['accommodates'].value_counts())\n",
        "\n",
        "accommodates =accommodates.reset_index()\n",
        "accommodates.columns= [\"accommodates\", \"Frequency\"]\n",
        "accommodates = accommodates.sort_values('Frequency',ascending=False)\n",
        "\n",
        "\n",
        "\n",
        "# Taking top 10 dominating accommodates \n",
        "\n",
        "accommodates =accommodates.nlargest(10, \"Frequency\")\n",
        "#accommodates.head(10)"
      ],
      "execution_count": 0,
      "outputs": []
    },
    {
      "cell_type": "code",
      "metadata": {
        "id": "jIBba3pjxqY5",
        "colab_type": "code",
        "outputId": "1034a6b3-8d57-4c44-f85d-dcb4cf28fac6",
        "colab": {
          "base_uri": "https://localhost:8080/",
          "height": 481
        }
      },
      "source": [
        "plt.figure(figsize=(10,7))\n",
        "\n",
        "\n",
        "sns.barplot( y=accommodates[\"Frequency\"],x=accommodates[\"accommodates\"], color=\"salmon\")\n",
        "plt.ylabel('Frequency')\n",
        "plt.xlabel('Accommodates Classifications')\n",
        "plt.title('Top 10 Accommodates Classifications in our Data')"
      ],
      "execution_count": 24,
      "outputs": [
        {
          "output_type": "execute_result",
          "data": {
            "text/plain": [
              "Text(0.5, 1.0, 'Top 10 Accommodates Classifications in our Data')"
            ]
          },
          "metadata": {
            "tags": []
          },
          "execution_count": 24
        },
        {
          "output_type": "display_data",
          "data": {
            "image/png": "[encoded data removed]",
            "text/plain": [
              "<Figure size 720x504 with 1 Axes>"
            ]
          },
          "metadata": {
            "tags": []
          }
        }
      ]
    },
    {
      "cell_type": "code",
      "metadata": {
        "id": "43y-nqC_0HMs",
        "colab_type": "code",
        "colab": {}
      },
      "source": [
        "# Counting Frequency of bathrooms \n",
        "\n",
        "bathrooms = pd.DataFrame(data['bathrooms'].value_counts())\n",
        "\n",
        "bathrooms =bathrooms.reset_index()\n",
        "bathrooms.columns= [\"bathrooms\", \"Frequency\"]\n",
        "bathrooms = bathrooms.sort_values('Frequency',ascending=False)\n",
        "\n",
        "\n",
        "\n",
        "# Taking top 10 dominating bathrooms \n",
        "\n",
        "bathrooms =bathrooms.nlargest(10, \"Frequency\")\n",
        "#bathrooms.head(10)"
      ],
      "execution_count": 0,
      "outputs": []
    },
    {
      "cell_type": "code",
      "metadata": {
        "id": "N4Uhpm1c0HIc",
        "colab_type": "code",
        "outputId": "d79fa14a-0798-44bf-8ef3-2b615014a33e",
        "colab": {
          "base_uri": "https://localhost:8080/",
          "height": 481
        }
      },
      "source": [
        "plt.figure(figsize=(10,7))\n",
        "\n",
        "sns.barplot( y=bathrooms[\"Frequency\"],x=bathrooms[\"bathrooms\"], color=\"salmon\")\n",
        "plt.ylabel('Frequency')\n",
        "plt.xlabel('Bathrooms Classifications')\n",
        "plt.title('Top 10 Bathrooms Classifications in our Data')"
      ],
      "execution_count": 26,
      "outputs": [
        {
          "output_type": "execute_result",
          "data": {
            "text/plain": [
              "Text(0.5, 1.0, 'Top 10 Bathrooms Classifications in our Data')"
            ]
          },
          "metadata": {
            "tags": []
          },
          "execution_count": 26
        },
        {
          "output_type": "display_data",
          "data": {
            "image/png": "[encoded data removed]",
            "text/plain": [
              "<Figure size 720x504 with 1 Axes>"
            ]
          },
          "metadata": {
            "tags": []
          }
        }
      ]
    },
    {
      "cell_type": "code",
      "metadata": {
        "id": "vyuAaW0R0HFO",
        "colab_type": "code",
        "colab": {}
      },
      "source": [
        "# Counting Frequency of bedrooms \n",
        "\n",
        "bedrooms = pd.DataFrame(data['bedrooms'].value_counts())\n",
        "\n",
        "bedrooms =bedrooms.reset_index()\n",
        "bedrooms.columns= [\"bedrooms\", \"Frequency\"]\n",
        "bedrooms = bedrooms.sort_values('Frequency',ascending=False)\n",
        "\n",
        "\n",
        "\n",
        "# Taking top 10 dominating bedrooms \n",
        "\n",
        "bedrooms =bedrooms.nlargest(10, \"Frequency\")\n",
        "#bedrooms.head(10)"
      ],
      "execution_count": 0,
      "outputs": []
    },
    {
      "cell_type": "code",
      "metadata": {
        "id": "laL2h1Qt0HBh",
        "colab_type": "code",
        "outputId": "c5fbfd64-7161-4f3e-f74b-eeefe732a9b4",
        "colab": {
          "base_uri": "https://localhost:8080/",
          "height": 481
        }
      },
      "source": [
        "plt.figure(figsize=(10,7))\n",
        "\n",
        "sns.barplot( y=bedrooms[\"Frequency\"],x=bedrooms[\"bedrooms\"], color=\"salmon\")\n",
        "plt.ylabel('Frequency')\n",
        "plt.xlabel('Bedrooms Classifications')\n",
        "plt.title('Top 10 Bedrooms Classifications in our Data')"
      ],
      "execution_count": 28,
      "outputs": [
        {
          "output_type": "execute_result",
          "data": {
            "text/plain": [
              "Text(0.5, 1.0, 'Top 10 Bedrooms Classifications in our Data')"
            ]
          },
          "metadata": {
            "tags": []
          },
          "execution_count": 28
        },
        {
          "output_type": "display_data",
          "data": {
            "image/png": "[encoded data removed]",
            "text/plain": [
              "<Figure size 720x504 with 1 Axes>"
            ]
          },
          "metadata": {
            "tags": []
          }
        }
      ]
    },
    {
      "cell_type": "code",
      "metadata": {
        "id": "L4XjGTo80G-2",
        "colab_type": "code",
        "colab": {}
      },
      "source": [
        "# Counting Frequency of beds \n",
        "\n",
        "beds = pd.DataFrame(data['beds'].value_counts())\n",
        "\n",
        "beds =beds.reset_index()\n",
        "beds.columns= [\"beds\", \"Frequency\"]\n",
        "beds = beds.sort_values('Frequency',ascending=False)\n",
        "\n",
        "\n",
        "\n",
        "# Taking top 10 dominating beds\n",
        "\n",
        "beds =beds.nlargest(10, \"Frequency\")\n",
        "#beds.head(10)"
      ],
      "execution_count": 0,
      "outputs": []
    },
    {
      "cell_type": "code",
      "metadata": {
        "id": "JJO1B84YxqNp",
        "colab_type": "code",
        "outputId": "c751edc1-c463-47d4-cef6-362a7a6081e1",
        "colab": {
          "base_uri": "https://localhost:8080/",
          "height": 481
        }
      },
      "source": [
        "plt.figure(figsize=(10,7))\n",
        "\n",
        "sns.barplot( y=beds[\"Frequency\"],x=beds[\"beds\"], color=\"salmon\")\n",
        "plt.ylabel('Frequency')\n",
        "plt.xlabel('Beds Classifications')\n",
        "plt.title('Top 10 Beds Classifications in our Data')"
      ],
      "execution_count": 30,
      "outputs": [
        {
          "output_type": "execute_result",
          "data": {
            "text/plain": [
              "Text(0.5, 1.0, 'Top 10 Beds Classifications in our Data')"
            ]
          },
          "metadata": {
            "tags": []
          },
          "execution_count": 30
        },
        {
          "output_type": "display_data",
          "data": {
            "image/png": "[encoded data removed]",
            "text/plain": [
              "<Figure size 720x504 with 1 Axes>"
            ]
          },
          "metadata": {
            "tags": []
          }
        }
      ]
    },
    {
      "cell_type": "code",
      "metadata": {
        "id": "cFS1qPCB2QJ1",
        "colab_type": "code",
        "outputId": "e4c5b96c-d6f7-40bd-e861-12cdb5a87dd9",
        "colab": {
          "base_uri": "https://localhost:8080/",
          "height": 372
        }
      },
      "source": [
        "plt.figure(figsize=(10,5))\n",
        "\n",
        "sns.countplot(x=\"instant_bookable\", data=data, color=\"salmon\")\n",
        "plt.ylabel('Frequency')\n",
        "plt.xlabel('Instant Bookable Classifications')\n",
        "plt.title('Instant Bookable Classifications in our Data')"
      ],
      "execution_count": 31,
      "outputs": [
        {
          "output_type": "execute_result",
          "data": {
            "text/plain": [
              "Text(0.5, 1.0, 'Instant Bookable Classifications in our Data')"
            ]
          },
          "metadata": {
            "tags": []
          },
          "execution_count": 31
        },
        {
          "output_type": "display_data",
          "data": {
            "image/png": "[encoded data removed]",
            "text/plain": [
              "<Figure size 720x360 with 1 Axes>"
            ]
          },
          "metadata": {
            "tags": []
          }
        }
      ]
    },
    {
      "cell_type": "code",
      "metadata": {
        "id": "S0DKs69_S-kk",
        "colab_type": "code",
        "colab": {}
      },
      "source": [
        "# Dividing review_scores_rating into 4-groups [0-70],[70-80],[80-90],[90-100].\n",
        "\n",
        "\n",
        "binned_review=pd.cut(data[\"review_scores_rating\"],10 )"
      ],
      "execution_count": 0,
      "outputs": []
    },
    {
      "cell_type": "code",
      "metadata": {
        "id": "pEj7HF_yTIAY",
        "colab_type": "code",
        "outputId": "0c48bd20-3c8d-49a7-ed96-2c75abf175de",
        "colab": {
          "base_uri": "https://localhost:8080/",
          "height": 372
        }
      },
      "source": [
        "plt.figure(figsize=(18,5))\n",
        "\n",
        "sns.countplot(binned_review, color=\"salmon\")\n",
        "plt.ylabel('Frequency')\n",
        "plt.xlabel('Review Scores Rating Classifications')\n",
        "plt.title('Review Scores Rating Classifications in our Data')"
      ],
      "execution_count": 33,
      "outputs": [
        {
          "output_type": "execute_result",
          "data": {
            "text/plain": [
              "Text(0.5, 1.0, 'Review Scores Rating Classifications in our Data')"
            ]
          },
          "metadata": {
            "tags": []
          },
          "execution_count": 33
        },
        {
          "output_type": "display_data",
          "data": {
            "image/png": "[encoded data removed]",
            "text/plain": [
              "<Figure size 1296x360 with 1 Axes>"
            ]
          },
          "metadata": {
            "tags": []
          }
        }
      ]
    },
    {
      "cell_type": "markdown",
      "metadata": {
        "id": "NJxz9U6OV_zU",
        "colab_type": "text"
      },
      "source": [
        "__In a general way, we can say that basic configuration of an apartment is single bedroom along with one or two beds and  single washroom with instant booking type \"f\" and review rating above 80.__"
      ]
    },
    {
      "cell_type": "markdown",
      "metadata": {
        "id": "i5G2xOZt71Pn",
        "colab_type": "text"
      },
      "source": [
        "__Data Preprossesing:__"
      ]
    },
    {
      "cell_type": "code",
      "metadata": {
        "id": "CZ_DOjoPKMo_",
        "colab_type": "code",
        "colab": {}
      },
      "source": [
        "# remove $ sign\n",
        "\n",
        "data[\"price\"]= data[\"price\"].str.replace(\"$\",\"\")\n",
        "data['price'] = pd.to_numeric(data['price'], errors='coerce')\n",
        "\n",
        "\n",
        "# mapping prperty_type\n",
        "\n",
        "data[\"property_type\"]= data[\"property_type\"].map({'Guesthouse':1, 'Apartment':2, 'Condominium':3, 'Loft':4, 'House':5, 'Serviced apartment':6, 'Townhouse':7\n",
        "                                                  , 'Boutique hotel':8, 'Bed and breakfast':9, 'Bungalow':10, 'Boat':11, 'Guest suite':12, 'Other':13, 'Island':14,\n",
        "                                                  'Hostel':15,'Train':16, 'Camper/RV':17, 'Houseboat':18, 'Cabin':19, 'Cottage':20, 'Tiny house':21,\n",
        "                                                  'Chalet':22, 'Castle':23, 'Villa':24, 'Aparthotel':25, 'Hotel':26, 'Tipi':27, 'Resort':28, 'In-law':29, \n",
        "                                                  'Cave':30, 'Barn':31, 'Pension (South Korea)':32, 'Casa particular (Cuba)':33\n",
        "                                                       })\n",
        "\n",
        "# mapping instant_bookable\n",
        "\n",
        "data[\"instant_bookable\"]= data[\"instant_bookable\"].map({\"f\":1, \"t\":0})"
      ],
      "execution_count": 0,
      "outputs": []
    },
    {
      "cell_type": "code",
      "metadata": {
        "id": "URgtHR8yQftm",
        "colab_type": "code",
        "outputId": "509c9e40-9aa2-425a-991f-ca7dd306a98e",
        "colab": {
          "base_uri": "https://localhost:8080/",
          "height": 224
        }
      },
      "source": [
        "data.head()"
      ],
      "execution_count": 35,
      "outputs": [
        {
          "output_type": "execute_result",
          "data": {
            "text/html": [
              "<div>\n",
              "<style scoped>\n",
              "    .dataframe tbody tr th:only-of-type {\n",
              "        vertical-align: middle;\n",
              "    }\n",
              "\n",
              "    .dataframe tbody tr th {\n",
              "        vertical-align: top;\n",
              "    }\n",
              "\n",
              "    .dataframe thead th {\n",
              "        text-align: right;\n",
              "    }\n",
              "</style>\n",
              "<table border=\"1\" class=\"dataframe\">\n",
              "  <thead>\n",
              "    <tr style=\"text-align: right;\">\n",
              "      <th></th>\n",
              "      <th>property_type</th>\n",
              "      <th>accommodates</th>\n",
              "      <th>bathrooms</th>\n",
              "      <th>bedrooms</th>\n",
              "      <th>beds</th>\n",
              "      <th>square_feet</th>\n",
              "      <th>availability_30</th>\n",
              "      <th>availability_60</th>\n",
              "      <th>availability_90</th>\n",
              "      <th>availability_365</th>\n",
              "      <th>review_scores_rating</th>\n",
              "      <th>instant_bookable</th>\n",
              "      <th>price</th>\n",
              "    </tr>\n",
              "  </thead>\n",
              "  <tbody>\n",
              "    <tr>\n",
              "      <th>0</th>\n",
              "      <td>1</td>\n",
              "      <td>3</td>\n",
              "      <td>1.0</td>\n",
              "      <td>1.0</td>\n",
              "      <td>2.0</td>\n",
              "      <td>0.0</td>\n",
              "      <td>0</td>\n",
              "      <td>21</td>\n",
              "      <td>51</td>\n",
              "      <td>141</td>\n",
              "      <td>93.0</td>\n",
              "      <td>1</td>\n",
              "      <td>60.0</td>\n",
              "    </tr>\n",
              "    <tr>\n",
              "      <th>1</th>\n",
              "      <td>2</td>\n",
              "      <td>2</td>\n",
              "      <td>1.0</td>\n",
              "      <td>1.0</td>\n",
              "      <td>1.0</td>\n",
              "      <td>0.0</td>\n",
              "      <td>0</td>\n",
              "      <td>0</td>\n",
              "      <td>0</td>\n",
              "      <td>0</td>\n",
              "      <td>100.0</td>\n",
              "      <td>1</td>\n",
              "      <td>17.0</td>\n",
              "    </tr>\n",
              "    <tr>\n",
              "      <th>2</th>\n",
              "      <td>2</td>\n",
              "      <td>4</td>\n",
              "      <td>1.0</td>\n",
              "      <td>1.0</td>\n",
              "      <td>2.0</td>\n",
              "      <td>720.0</td>\n",
              "      <td>0</td>\n",
              "      <td>0</td>\n",
              "      <td>0</td>\n",
              "      <td>220</td>\n",
              "      <td>92.0</td>\n",
              "      <td>0</td>\n",
              "      <td>90.0</td>\n",
              "    </tr>\n",
              "    <tr>\n",
              "      <th>3</th>\n",
              "      <td>2</td>\n",
              "      <td>2</td>\n",
              "      <td>1.0</td>\n",
              "      <td>1.0</td>\n",
              "      <td>1.0</td>\n",
              "      <td>0.0</td>\n",
              "      <td>0</td>\n",
              "      <td>0</td>\n",
              "      <td>22</td>\n",
              "      <td>297</td>\n",
              "      <td>88.0</td>\n",
              "      <td>1</td>\n",
              "      <td>26.0</td>\n",
              "    </tr>\n",
              "    <tr>\n",
              "      <th>4</th>\n",
              "      <td>2</td>\n",
              "      <td>2</td>\n",
              "      <td>1.0</td>\n",
              "      <td>1.0</td>\n",
              "      <td>2.0</td>\n",
              "      <td>0.0</td>\n",
              "      <td>15</td>\n",
              "      <td>26</td>\n",
              "      <td>26</td>\n",
              "      <td>26</td>\n",
              "      <td>96.0</td>\n",
              "      <td>1</td>\n",
              "      <td>42.0</td>\n",
              "    </tr>\n",
              "  </tbody>\n",
              "</table>\n",
              "</div>"
            ],
            "text/plain": [
              "   property_type  accommodates  ...  instant_bookable  price\n",
              "0              1             3  ...                 1   60.0\n",
              "1              2             2  ...                 1   17.0\n",
              "2              2             4  ...                 0   90.0\n",
              "3              2             2  ...                 1   26.0\n",
              "4              2             2  ...                 1   42.0\n",
              "\n",
              "[5 rows x 13 columns]"
            ]
          },
          "metadata": {
            "tags": []
          },
          "execution_count": 35
        }
      ]
    },
    {
      "cell_type": "code",
      "metadata": {
        "id": "1WAIhOkIGuJe",
        "colab_type": "code",
        "colab": {}
      },
      "source": [
        "# filling NaN values to 0\n",
        "\n",
        "data= data.fillna(value=0)"
      ],
      "execution_count": 0,
      "outputs": []
    },
    {
      "cell_type": "code",
      "metadata": {
        "id": "JdHv0ry3HYpP",
        "colab_type": "code",
        "outputId": "8320f838-4280-4e8f-a012-1a8a634d50b7",
        "colab": {
          "base_uri": "https://localhost:8080/",
          "height": 255
        }
      },
      "source": [
        "data.dtypes"
      ],
      "execution_count": 0,
      "outputs": [
        {
          "output_type": "execute_result",
          "data": {
            "text/plain": [
              "property_type             int64\n",
              "accommodates              int64\n",
              "bathrooms               float64\n",
              "bedrooms                float64\n",
              "beds                    float64\n",
              "square_feet             float64\n",
              "availability_30           int64\n",
              "availability_60           int64\n",
              "availability_90           int64\n",
              "availability_365          int64\n",
              "review_scores_rating    float64\n",
              "instant_bookable          int64\n",
              "price                   float64\n",
              "dtype: object"
            ]
          },
          "metadata": {
            "tags": []
          },
          "execution_count": 37
        }
      ]
    },
    {
      "cell_type": "code",
      "metadata": {
        "id": "KgX64rrRSu3t",
        "colab_type": "code",
        "outputId": "40e0f527-0c4f-4174-b4b4-143cb0691536",
        "colab": {
          "base_uri": "https://localhost:8080/",
          "height": 609
        }
      },
      "source": [
        "fig, ax =plt.subplots(figsize=(9, 9))\n",
        "plt.title(\"Correlation Plot\")\n",
        "sns.heatmap(data.corr(), mask=np.zeros_like(data.corr(), dtype=np.bool), cmap=sns.diverging_palette(220, 10, as_cmap=True),\n",
        "            square=True, ax=ax, annot=True,linewidths=3)\n",
        "plt.show()"
      ],
      "execution_count": 0,
      "outputs": [
        {
          "output_type": "display_data",
          "data": {
            "image/png": "[encoded data removed]",
            "text/plain": [
              "<Figure size 648x648 with 2 Axes>"
            ]
          },
          "metadata": {
            "tags": []
          }
        }
      ]
    },
    {
      "cell_type": "markdown",
      "metadata": {
        "id": "lUiRkcScr-Tl",
        "colab_type": "text"
      },
      "source": [
        "__Model Implementation:__"
      ]
    },
    {
      "cell_type": "code",
      "metadata": {
        "id": "DLF5A9Vay1jw",
        "colab_type": "code",
        "colab": {}
      },
      "source": [
        "from sklearn.model_selection import train_test_split\n",
        "\n",
        "X = data.drop('price',axis=1)\n",
        "y = data['price']\n",
        "\n",
        "X_train, X_test, y_train, y_test = train_test_split(X, y, test_size=0.30)"
      ],
      "execution_count": 0,
      "outputs": []
    },
    {
      "cell_type": "code",
      "metadata": {
        "id": "UlzafqYW0zVj",
        "colab_type": "code",
        "outputId": "837fc468-2f37-44ea-bbd1-4767f02acf4a",
        "colab": {
          "base_uri": "https://localhost:8080/",
          "height": 102
        }
      },
      "source": [
        "from sklearn.tree import DecisionTreeRegressor\n",
        "dtree = DecisionTreeRegressor(random_state = 0)\n",
        "dtree.fit(X_train,y_train)"
      ],
      "execution_count": 0,
      "outputs": [
        {
          "output_type": "execute_result",
          "data": {
            "text/plain": [
              "DecisionTreeRegressor(criterion='mse', max_depth=None, max_features=None,\n",
              "                      max_leaf_nodes=None, min_impurity_decrease=0.0,\n",
              "                      min_impurity_split=None, min_samples_leaf=1,\n",
              "                      min_samples_split=2, min_weight_fraction_leaf=0.0,\n",
              "                      presort=False, random_state=0, splitter='best')"
            ]
          },
          "metadata": {
            "tags": []
          },
          "execution_count": 40
        }
      ]
    },
    {
      "cell_type": "code",
      "metadata": {
        "id": "RuHwa6t604mf",
        "colab_type": "code",
        "colab": {}
      },
      "source": [
        "y_pred_test = dtree.predict(X_test)\n",
        "y_pred_train = dtree.predict(X_train)"
      ],
      "execution_count": 0,
      "outputs": []
    },
    {
      "cell_type": "markdown",
      "metadata": {
        "id": "wQvhP_husFDv",
        "colab_type": "text"
      },
      "source": [
        "__Model Evaluation:__"
      ]
    },
    {
      "cell_type": "code",
      "metadata": {
        "id": "x7YTlZ13JYco",
        "colab_type": "code",
        "colab": {}
      },
      "source": [
        "from sklearn import metrics"
      ],
      "execution_count": 0,
      "outputs": []
    },
    {
      "cell_type": "markdown",
      "metadata": {
        "id": "8xFjzLNDK2RU",
        "colab_type": "text"
      },
      "source": [
        "__Root Mean Squared Error__ (RMSE) is the square root of the mean of the squared errors:\n",
        "\n",
        "$$\\sqrt{\\frac 1n\\sum_{i=1}^n(y_i-\\hat{y}_i)^2}$$\n",
        "\n",
        "Computing the RMSE for our Price predictions"
      ]
    },
    {
      "cell_type": "code",
      "metadata": {
        "id": "R8gCDe6oKJLg",
        "colab_type": "code",
        "colab": {}
      },
      "source": [
        "RMSE_train = np.sqrt( metrics.mean_squared_error(y_train, y_pred_train))\n",
        "RMSE_test = np.sqrt(metrics.mean_squared_error(y_test, y_pred_test))"
      ],
      "execution_count": 0,
      "outputs": []
    },
    {
      "cell_type": "code",
      "metadata": {
        "id": "u7okkjasKJBX",
        "colab_type": "code",
        "outputId": "1ff8dc21-1a99-4f93-d6c5-a77265027d36",
        "colab": {
          "base_uri": "https://localhost:8080/",
          "height": 51
        }
      },
      "source": [
        "print('RMSE for training set is {}'.format(RMSE_train))\n",
        "print('RMSE for test set is {}'.format(RMSE_test))"
      ],
      "execution_count": 0,
      "outputs": [
        {
          "output_type": "stream",
          "text": [
            "RMSE for training set is 17.75072739660046\n",
            "RMSE for test set is 53.744425457842276\n"
          ],
          "name": "stdout"
        }
      ]
    },
    {
      "cell_type": "markdown",
      "metadata": {
        "id": "5VSJpVNtrRAz",
        "colab_type": "text"
      },
      "source": [
        "__Reveiws Sentiment Analysis:__"
      ]
    },
    {
      "cell_type": "code",
      "metadata": {
        "id": "M0-XYQJnLUyr",
        "colab_type": "code",
        "colab": {}
      },
      "source": [
        ""
      ],
      "execution_count": 0,
      "outputs": []
    },
    {
      "cell_type": "code",
      "metadata": {
        "id": "JxKiNh_3HI9L",
        "colab_type": "code",
        "outputId": "ebcbc7b3-a592-4134-f53d-a6cddc6c96e7",
        "colab": {
          "base_uri": "https://localhost:8080/",
          "height": 221
        }
      },
      "source": [
        "reviews_summary= pd.read_csv(\"reviews_summary.csv\")\n",
        "print(reviews_summary.shape)\n",
        "reviews_summary.head()"
      ],
      "execution_count": 0,
      "outputs": [
        {
          "output_type": "stream",
          "text": [
            "(401963, 6)\n"
          ],
          "name": "stdout"
        },
        {
          "output_type": "execute_result",
          "data": {
            "text/html": [
              "<div>\n",
              "<style scoped>\n",
              "    .dataframe tbody tr th:only-of-type {\n",
              "        vertical-align: middle;\n",
              "    }\n",
              "\n",
              "    .dataframe tbody tr th {\n",
              "        vertical-align: top;\n",
              "    }\n",
              "\n",
              "    .dataframe thead th {\n",
              "        text-align: right;\n",
              "    }\n",
              "</style>\n",
              "<table border=\"1\" class=\"dataframe\">\n",
              "  <thead>\n",
              "    <tr style=\"text-align: right;\">\n",
              "      <th></th>\n",
              "      <th>listing_id</th>\n",
              "      <th>id</th>\n",
              "      <th>date</th>\n",
              "      <th>reviewer_id</th>\n",
              "      <th>reviewer_name</th>\n",
              "      <th>comments</th>\n",
              "    </tr>\n",
              "  </thead>\n",
              "  <tbody>\n",
              "    <tr>\n",
              "      <th>0</th>\n",
              "      <td>2015</td>\n",
              "      <td>69544350</td>\n",
              "      <td>2016-04-11</td>\n",
              "      <td>7178145</td>\n",
              "      <td>Rahel</td>\n",
              "      <td>Mein Freund und ich hatten gute gemütliche vie...</td>\n",
              "    </tr>\n",
              "    <tr>\n",
              "      <th>1</th>\n",
              "      <td>2015</td>\n",
              "      <td>69990732</td>\n",
              "      <td>2016-04-15</td>\n",
              "      <td>41944715</td>\n",
              "      <td>Hannah</td>\n",
              "      <td>Jan was very friendly and welcoming host! The ...</td>\n",
              "    </tr>\n",
              "    <tr>\n",
              "      <th>2</th>\n",
              "      <td>2015</td>\n",
              "      <td>71605267</td>\n",
              "      <td>2016-04-26</td>\n",
              "      <td>30048708</td>\n",
              "      <td>Victor</td>\n",
              "      <td>Un appartement tres bien situé dans un quartie...</td>\n",
              "    </tr>\n",
              "    <tr>\n",
              "      <th>3</th>\n",
              "      <td>2015</td>\n",
              "      <td>73819566</td>\n",
              "      <td>2016-05-10</td>\n",
              "      <td>63697857</td>\n",
              "      <td>Judy</td>\n",
              "      <td>It is really nice area, food, park, transport ...</td>\n",
              "    </tr>\n",
              "    <tr>\n",
              "      <th>4</th>\n",
              "      <td>2015</td>\n",
              "      <td>74293504</td>\n",
              "      <td>2016-05-14</td>\n",
              "      <td>10414887</td>\n",
              "      <td>Romina</td>\n",
              "      <td>Buena ubicación, el departamento no está orden...</td>\n",
              "    </tr>\n",
              "  </tbody>\n",
              "</table>\n",
              "</div>"
            ],
            "text/plain": [
              "   listing_id  ...                                           comments\n",
              "0        2015  ...  Mein Freund und ich hatten gute gemütliche vie...\n",
              "1        2015  ...  Jan was very friendly and welcoming host! The ...\n",
              "2        2015  ...  Un appartement tres bien situé dans un quartie...\n",
              "3        2015  ...  It is really nice area, food, park, transport ...\n",
              "4        2015  ...  Buena ubicación, el departamento no está orden...\n",
              "\n",
              "[5 rows x 6 columns]"
            ]
          },
          "metadata": {
            "tags": []
          },
          "execution_count": 45
        }
      ]
    },
    {
      "cell_type": "code",
      "metadata": {
        "id": "XrMyANIQLZGd",
        "colab_type": "code",
        "colab": {}
      },
      "source": [
        "from textblob import TextBlob"
      ],
      "execution_count": 0,
      "outputs": []
    },
    {
      "cell_type": "code",
      "metadata": {
        "id": "3ksGkZPMLeMK",
        "colab_type": "code",
        "colab": {}
      },
      "source": [
        "positive = 0\n",
        "negative = 0\n",
        "neutral = 0\n",
        "polarity = 0\n",
        "reviews_summary[\"comments\"] =reviews_summary[\"comments\"].astype(str)"
      ],
      "execution_count": 0,
      "outputs": []
    },
    {
      "cell_type": "code",
      "metadata": {
        "id": "Th9A1v9GLeE2",
        "colab_type": "code",
        "colab": {}
      },
      "source": [
        "for i in reviews_summary[\"comments\"]:\n",
        "    analysis = TextBlob(i)\n",
        "    polarity = polarity + analysis.sentiment.polarity\n",
        "    if(analysis.sentiment.polarity == 0.00):\n",
        "        neutral = neutral + 1\n",
        "    elif(analysis.sentiment.polarity > 0.00):\n",
        "        positive = positive + 1\n",
        "    elif(analysis.sentiment.polarity < 0.00):\n",
        "        negative = negative + 1"
      ],
      "execution_count": 0,
      "outputs": []
    },
    {
      "cell_type": "code",
      "metadata": {
        "id": "JitwiRDuLd9c",
        "colab_type": "code",
        "colab": {}
      },
      "source": [
        "def percentage (part,whole):\n",
        "    a = 100 * float(part)/float(whole)\n",
        "    return a"
      ],
      "execution_count": 0,
      "outputs": []
    },
    {
      "cell_type": "code",
      "metadata": {
        "id": "YBYiZay_Ll3f",
        "colab_type": "code",
        "outputId": "94d35aeb-9525-449e-fb53-bc348932bfe6",
        "colab": {
          "base_uri": "https://localhost:8080/",
          "height": 68
        }
      },
      "source": [
        "positive = percentage(positive,len(reviews_summary.comments))\n",
        "negative = percentage(negative,len(reviews_summary.comments))\n",
        "neutral = percentage(neutral,len(reviews_summary.comments))\n",
        "#polarity = percentage(polarity,len(reviews_summary.comments))\n",
        "\n",
        "\n",
        "print(\"positive =\",positive,\"%\")\n",
        "print(\"negative =\",negative,\"%\")\n",
        "print(\"neutral = \",neutral,\"%\")\n",
        "#print(\"polarity = \",polarity,\"\")\n",
        "\n",
        "\n",
        "positive = format(positive, \".2f\")\n",
        "negative = format(negative, \".2f\")\n",
        "neutral = format(neutral, \".2f\")\n"
      ],
      "execution_count": 0,
      "outputs": [
        {
          "output_type": "stream",
          "text": [
            "positive = 76.93270276119941 %\n",
            "negative = 1.7153320081699062 %\n",
            "neutral =  21.35196523063068 %\n"
          ],
          "name": "stdout"
        }
      ]
    },
    {
      "cell_type": "code",
      "metadata": {
        "id": "xturzWCVLls3",
        "colab_type": "code",
        "outputId": "8a8ce850-490b-448e-f44a-89c8190f5c26",
        "colab": {
          "base_uri": "https://localhost:8080/",
          "height": 51
        }
      },
      "source": [
        "print(\"How people are reacting on Berlin Airbnb Host by analyzing \" , len(reviews_summary[\"comments\"]) , \" Reviews.\")\n",
        "\n",
        "if(polarity > 0.00):\n",
        "    print(\"Positive\")\n",
        "elif(polarity == 0.00):\n",
        "    print(\"Neutral\")\n",
        "elif(polarity < 0.00):\n",
        "    print(\"Negative\")"
      ],
      "execution_count": 0,
      "outputs": [
        {
          "output_type": "stream",
          "text": [
            "How people are reacting on Berlin Airbnb Host by analyzing  401963  Reviews.\n",
            "Positive\n"
          ],
          "name": "stdout"
        }
      ]
    },
    {
      "cell_type": "code",
      "metadata": {
        "id": "5QhNkKquLlnB",
        "colab_type": "code",
        "outputId": "3c3612eb-d9bb-4e90-cd94-e997e0aa3210",
        "colab": {
          "base_uri": "https://localhost:8080/",
          "height": 260
        }
      },
      "source": [
        "labels = \"Positive\", \"Negative\" , \"Neutral\"\n",
        "sizes = [positive , negative , neutral]\n",
        "colors = [\"pink\" , \"lightgrey\" , \"lightgreen\"]\n",
        "explode = (0.1,0.1,0.1) \n",
        " \n",
        "plt.pie(sizes, explode=explode, labels=labels, colors=colors,\n",
        "        autopct='%1.0f%%', shadow=True, startangle=270)\n",
        " \n",
        "plt.axis('equal')\n",
        "plt.show()\n",
        "\n"
      ],
      "execution_count": 0,
      "outputs": [
        {
          "output_type": "display_data",
          "data": {
            "image/png": "[encoded data removed]",
            "text/plain": [
              "<Figure size 432x288 with 1 Axes>"
            ]
          },
          "metadata": {
            "tags": []
          }
        }
      ]
    },
    {
      "cell_type": "code",
      "metadata": {
        "id": "4Kymzkl_Ld5F",
        "colab_type": "code",
        "colab": {}
      },
      "source": [
        ""
      ],
      "execution_count": 0,
      "outputs": []
    }
  ]
}